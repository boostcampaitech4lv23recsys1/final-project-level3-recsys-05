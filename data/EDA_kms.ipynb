{
 "cells": [
  {
   "cell_type": "code",
   "execution_count": 117,
   "metadata": {},
   "outputs": [],
   "source": [
    "import pandas as pd\n",
    "import matplotlib.pyplot as plt\n",
    "import warnings\n",
    "warnings.filterwarnings(\"ignore\")\n",
    "\n",
    "import re\n",
    "import os\n",
    "pd.options.display.float_format = '{:.4f}'.format"
   ]
  },
  {
   "cell_type": "code",
   "execution_count": 118,
   "metadata": {},
   "outputs": [],
   "source": [
    "ms = \"../../project/data\"\n",
    "jm = \"../../new_data\"\n",
    "base_path = jm\n",
    "\n",
    "ms_data = 'ohou'\n",
    "jm_data = 'final_v2'\n",
    "dataset_name = jm_data\n",
    "save_base_path = f'../RecBole/dataset/{dataset_name}'\n",
    "\n",
    "page_si = pd.read_csv(os.path.join(base_path, 'pages.csv'))\n",
    "page_product = pd.read_csv(os.path.join(base_path, 'page_product.csv'))\n",
    "product_si = pd.read_csv(os.path.join(base_path, 'prod_sideinfo.csv'))\n",
    "# product_review = pd.read_csv('../../project/data/final.csv', lineterminator='\\n') \n",
    "# review_total = pd.read_csv('../../project/data/review_total.csv', lineterminator='\\n') "
   ]
  },
  {
   "cell_type": "code",
   "execution_count": 119,
   "metadata": {},
   "outputs": [],
   "source": [
    "# review 원본\n",
    "review_1 = pd.read_csv(os.path.join(base_path, \"review_1.csv\"), lineterminator='\\n')\n",
    "review_2 = pd.read_csv(os.path.join(base_path, \"review_2.csv\"), lineterminator='\\n')\n",
    "review_3 = pd.read_csv(os.path.join(base_path, \"review_3.csv\"), lineterminator='\\n')\n",
    "review_4 = pd.read_csv(os.path.join(base_path, \"review_4.csv\"), lineterminator='\\n')"
   ]
  },
  {
   "cell_type": "code",
   "execution_count": 120,
   "metadata": {},
   "outputs": [],
   "source": [
    "review_1234 = pd.concat([review_1, review_2, review_3, review_4], axis=0)"
   ]
  },
  {
   "attachments": {},
   "cell_type": "markdown",
   "metadata": {},
   "source": [
    "# 각 데이터셋 기본 정보"
   ]
  },
  {
   "cell_type": "markdown",
   "metadata": {},
   "source": [
    "## page_si"
   ]
  },
  {
   "cell_type": "code",
   "execution_count": 121,
   "metadata": {},
   "outputs": [
    {
     "data": {
      "text/html": [
       "<div>\n",
       "<style scoped>\n",
       "    .dataframe tbody tr th:only-of-type {\n",
       "        vertical-align: middle;\n",
       "    }\n",
       "\n",
       "    .dataframe tbody tr th {\n",
       "        vertical-align: top;\n",
       "    }\n",
       "\n",
       "    .dataframe thead th {\n",
       "        text-align: right;\n",
       "    }\n",
       "</style>\n",
       "<table border=\"1\" class=\"dataframe\">\n",
       "  <thead>\n",
       "    <tr style=\"text-align: right;\">\n",
       "      <th></th>\n",
       "      <th>page_id</th>\n",
       "      <th>title</th>\n",
       "      <th>timestamp</th>\n",
       "      <th>residence</th>\n",
       "      <th>area</th>\n",
       "      <th>agent</th>\n",
       "      <th>expertise</th>\n",
       "      <th>family_list</th>\n",
       "      <th>style_list</th>\n",
       "      <th>budget</th>\n",
       "    </tr>\n",
       "  </thead>\n",
       "  <tbody>\n",
       "    <tr>\n",
       "      <th>0</th>\n",
       "      <td>133556</td>\n",
       "      <td>패션 마케터의 감각으로 탈바꿈한 50살 아파트 리모델링</td>\n",
       "      <td>2023-01-03T09:36:42.000+09:00</td>\n",
       "      <td>아파트</td>\n",
       "      <td>41평</td>\n",
       "      <td>전문가</td>\n",
       "      <td>리모델링</td>\n",
       "      <td>['신혼부부']</td>\n",
       "      <td>['모던']</td>\n",
       "      <td>0</td>\n",
       "    </tr>\n",
       "    <tr>\n",
       "      <th>1</th>\n",
       "      <td>133209</td>\n",
       "      <td>같은 집 다른 느낌! 8평 오피스텔의 스타일 변천사</td>\n",
       "      <td>2023-01-03T09:36:18.000+09:00</td>\n",
       "      <td>원룸&amp;오피스텔</td>\n",
       "      <td>8평</td>\n",
       "      <td>셀프•DIY</td>\n",
       "      <td>홈스타일링</td>\n",
       "      <td>['싱글라이프']</td>\n",
       "      <td>['내추럴']</td>\n",
       "      <td>0</td>\n",
       "    </tr>\n",
       "    <tr>\n",
       "      <th>2</th>\n",
       "      <td>134133</td>\n",
       "      <td>포근한 일상을 고스란히🕊️ 내추럴 무드 신혼집 기록</td>\n",
       "      <td>2023-01-03T08:05:46.000+09:00</td>\n",
       "      <td>단독주택</td>\n",
       "      <td>50평</td>\n",
       "      <td>셀프•DIY</td>\n",
       "      <td>홈스타일링</td>\n",
       "      <td>['신혼부부']</td>\n",
       "      <td>['내추럴']</td>\n",
       "      <td>0</td>\n",
       "    </tr>\n",
       "    <tr>\n",
       "      <th>3</th>\n",
       "      <td>133792</td>\n",
       "      <td>유럽의 미드센추리 감성 가득! 영국의 모던 하우스</td>\n",
       "      <td>2023-01-03T08:05:39.000+09:00</td>\n",
       "      <td>단독주택</td>\n",
       "      <td>43평</td>\n",
       "      <td>셀프•DIY</td>\n",
       "      <td>홈스타일링</td>\n",
       "      <td>['취학 자녀가 있는 집']</td>\n",
       "      <td>['모던']</td>\n",
       "      <td>0</td>\n",
       "    </tr>\n",
       "    <tr>\n",
       "      <th>4</th>\n",
       "      <td>133766</td>\n",
       "      <td>30평대 신혼집, 알록달록한 패브릭으로 포인트 주기!</td>\n",
       "      <td>2023-01-03T08:05:35.000+09:00</td>\n",
       "      <td>아파트</td>\n",
       "      <td>33평</td>\n",
       "      <td>셀프•DIY</td>\n",
       "      <td>홈스타일링</td>\n",
       "      <td>['신혼부부']</td>\n",
       "      <td>['유니크&amp;믹스매치']</td>\n",
       "      <td>0</td>\n",
       "    </tr>\n",
       "    <tr>\n",
       "      <th>...</th>\n",
       "      <td>...</td>\n",
       "      <td>...</td>\n",
       "      <td>...</td>\n",
       "      <td>...</td>\n",
       "      <td>...</td>\n",
       "      <td>...</td>\n",
       "      <td>...</td>\n",
       "      <td>...</td>\n",
       "      <td>...</td>\n",
       "      <td>...</td>\n",
       "    </tr>\n",
       "    <tr>\n",
       "      <th>7927</th>\n",
       "      <td>442</td>\n",
       "      <td>성마마의 신혼집~</td>\n",
       "      <td>2014-11-23T19:31:08.000+09:00</td>\n",
       "      <td>아파트</td>\n",
       "      <td>20평대</td>\n",
       "      <td>셀프•DIY</td>\n",
       "      <td>홈스타일링</td>\n",
       "      <td>['신혼부부']</td>\n",
       "      <td>['내추럴']</td>\n",
       "      <td>700</td>\n",
       "    </tr>\n",
       "    <tr>\n",
       "      <th>7928</th>\n",
       "      <td>439</td>\n",
       "      <td>최쯔비의 러브하우스♡</td>\n",
       "      <td>2014-11-22T01:02:27.000+09:00</td>\n",
       "      <td>아파트</td>\n",
       "      <td>20평대</td>\n",
       "      <td>반셀프</td>\n",
       "      <td>리모델링</td>\n",
       "      <td>['신혼부부']</td>\n",
       "      <td>['내추럴']</td>\n",
       "      <td>745</td>\n",
       "    </tr>\n",
       "    <tr>\n",
       "      <th>7929</th>\n",
       "      <td>434</td>\n",
       "      <td>여름의 기록</td>\n",
       "      <td>2014-11-20T14:08:31.000+09:00</td>\n",
       "      <td>아파트</td>\n",
       "      <td>24평</td>\n",
       "      <td>셀프•DIY</td>\n",
       "      <td>홈스타일링</td>\n",
       "      <td>['아기가 있는 집']</td>\n",
       "      <td>['내추럴']</td>\n",
       "      <td>0</td>\n",
       "    </tr>\n",
       "    <tr>\n",
       "      <th>7930</th>\n",
       "      <td>432</td>\n",
       "      <td>조금씩 더하기+</td>\n",
       "      <td>2014-11-19T18:05:29.000+09:00</td>\n",
       "      <td>아파트</td>\n",
       "      <td>20평대</td>\n",
       "      <td>반셀프</td>\n",
       "      <td>홈스타일링</td>\n",
       "      <td>['신혼부부']</td>\n",
       "      <td>['내추럴']</td>\n",
       "      <td>0</td>\n",
       "    </tr>\n",
       "    <tr>\n",
       "      <th>7931</th>\n",
       "      <td>318</td>\n",
       "      <td>감성 터지는 작은방 셀프 인테리어</td>\n",
       "      <td>2014-10-21T14:30:52.000+09:00</td>\n",
       "      <td>원룸&amp;오피스텔</td>\n",
       "      <td>10평</td>\n",
       "      <td>셀프•DIY</td>\n",
       "      <td>홈스타일링</td>\n",
       "      <td>['싱글라이프']</td>\n",
       "      <td>['유니크&amp;믹스매치']</td>\n",
       "      <td>0</td>\n",
       "    </tr>\n",
       "  </tbody>\n",
       "</table>\n",
       "<p>7932 rows × 10 columns</p>\n",
       "</div>"
      ],
      "text/plain": [
       "      page_id                           title                      timestamp  \\\n",
       "0      133556  패션 마케터의 감각으로 탈바꿈한 50살 아파트 리모델링  2023-01-03T09:36:42.000+09:00   \n",
       "1      133209    같은 집 다른 느낌! 8평 오피스텔의 스타일 변천사  2023-01-03T09:36:18.000+09:00   \n",
       "2      134133    포근한 일상을 고스란히🕊️ 내추럴 무드 신혼집 기록  2023-01-03T08:05:46.000+09:00   \n",
       "3      133792     유럽의 미드센추리 감성 가득! 영국의 모던 하우스  2023-01-03T08:05:39.000+09:00   \n",
       "4      133766   30평대 신혼집, 알록달록한 패브릭으로 포인트 주기!  2023-01-03T08:05:35.000+09:00   \n",
       "...       ...                             ...                            ...   \n",
       "7927      442                       성마마의 신혼집~  2014-11-23T19:31:08.000+09:00   \n",
       "7928      439                     최쯔비의 러브하우스♡  2014-11-22T01:02:27.000+09:00   \n",
       "7929      434                         여름의 기록   2014-11-20T14:08:31.000+09:00   \n",
       "7930      432                        조금씩 더하기+  2014-11-19T18:05:29.000+09:00   \n",
       "7931      318              감성 터지는 작은방 셀프 인테리어  2014-10-21T14:30:52.000+09:00   \n",
       "\n",
       "     residence  area   agent expertise      family_list    style_list  budget  \n",
       "0          아파트   41평     전문가      리모델링         ['신혼부부']        ['모던']       0  \n",
       "1      원룸&오피스텔    8평  셀프•DIY     홈스타일링        ['싱글라이프']       ['내추럴']       0  \n",
       "2         단독주택   50평  셀프•DIY     홈스타일링         ['신혼부부']       ['내추럴']       0  \n",
       "3         단독주택   43평  셀프•DIY     홈스타일링  ['취학 자녀가 있는 집']        ['모던']       0  \n",
       "4          아파트   33평  셀프•DIY     홈스타일링         ['신혼부부']  ['유니크&믹스매치']       0  \n",
       "...        ...   ...     ...       ...              ...           ...     ...  \n",
       "7927       아파트  20평대  셀프•DIY     홈스타일링         ['신혼부부']       ['내추럴']     700  \n",
       "7928       아파트  20평대     반셀프      리모델링         ['신혼부부']       ['내추럴']     745  \n",
       "7929       아파트   24평  셀프•DIY     홈스타일링     ['아기가 있는 집']       ['내추럴']       0  \n",
       "7930       아파트  20평대     반셀프     홈스타일링         ['신혼부부']       ['내추럴']       0  \n",
       "7931   원룸&오피스텔   10평  셀프•DIY     홈스타일링        ['싱글라이프']  ['유니크&믹스매치']       0  \n",
       "\n",
       "[7932 rows x 10 columns]"
      ]
     },
     "execution_count": 121,
     "metadata": {},
     "output_type": "execute_result"
    }
   ],
   "source": [
    "page_si"
   ]
  },
  {
   "cell_type": "code",
   "execution_count": 122,
   "metadata": {},
   "outputs": [
    {
     "data": {
      "text/plain": [
       "7932"
      ]
     },
     "execution_count": 122,
     "metadata": {},
     "output_type": "execute_result"
    }
   ],
   "source": [
    "page_si['page_id'].nunique()"
   ]
  },
  {
   "attachments": {},
   "cell_type": "markdown",
   "metadata": {},
   "source": [
    "총 7932개의 페이지 존재"
   ]
  },
  {
   "cell_type": "code",
   "execution_count": 123,
   "metadata": {},
   "outputs": [
    {
     "data": {
      "text/plain": [
       "page_id        0\n",
       "title          0\n",
       "timestamp      0\n",
       "residence      0\n",
       "area           6\n",
       "agent          0\n",
       "expertise      0\n",
       "family_list    0\n",
       "style_list     0\n",
       "budget         0\n",
       "dtype: int64"
      ]
     },
     "execution_count": 123,
     "metadata": {},
     "output_type": "execute_result"
    }
   ],
   "source": [
    "page_si.isna().sum()"
   ]
  },
  {
   "cell_type": "markdown",
   "metadata": {},
   "source": [
    "6개 페이지에서 `area` 결측"
   ]
  },
  {
   "cell_type": "code",
   "execution_count": 124,
   "metadata": {},
   "outputs": [
    {
     "data": {
      "text/plain": [
       "<AxesSubplot: >"
      ]
     },
     "execution_count": 124,
     "metadata": {},
     "output_type": "execute_result"
    },
    {
     "data": {
      "image/png": "[encoded data removed]",
      "text/plain": [
       "<Figure size 640x480 with 1 Axes>"
      ]
     },
     "metadata": {},
     "output_type": "display_data"
    }
   ],
   "source": [
    "page_si.timestamp.apply(lambda x: x[:7]).value_counts().sort_index().plot()"
   ]
  },
  {
   "attachments": {},
   "cell_type": "markdown",
   "metadata": {},
   "source": [
    "2018-06 즈음부터 집들이 페이지 수 급증"
   ]
  },
  {
   "cell_type": "code",
   "execution_count": 125,
   "metadata": {},
   "outputs": [
    {
     "name": "stdout",
     "output_type": "stream",
     "text": [
      "아파트        4743\n",
      "원룸&오피스텔    1189\n",
      "빌라&연립       872\n",
      "단독주택        809\n",
      "기타          275\n",
      "사무공간         23\n",
      "상업공간         21\n",
      "Name: residence, dtype: int64\n",
      "아파트       59.7958\n",
      "원룸&오피스텔   14.9899\n",
      "빌라&연립     10.9934\n",
      "단독주택      10.1992\n",
      "기타         3.4670\n",
      "사무공간       0.2900\n",
      "상업공간       0.2648\n",
      "Name: residence, dtype: float64\n"
     ]
    }
   ],
   "source": [
    "print(page_si['residence'].value_counts() )\n",
    "print(page_si['residence'].value_counts() / page_si.shape[0] * 100)"
   ]
  },
  {
   "cell_type": "code",
   "execution_count": 126,
   "metadata": {},
   "outputs": [
    {
     "data": {
      "text/plain": [
       "<AxesSubplot: >"
      ]
     },
     "execution_count": 126,
     "metadata": {},
     "output_type": "execute_result"
    },
    {
     "data": {
      "image/png": "[encoded data removed]",
      "text/plain": [
       "<Figure size 640x480 with 1 Axes>"
      ]
     },
     "metadata": {},
     "output_type": "display_data"
    }
   ],
   "source": [
    "page_si['residence'].value_counts().plot(kind='bar')"
   ]
  },
  {
   "attachments": {},
   "cell_type": "markdown",
   "metadata": {},
   "source": [
    "`residence` - 위 순서로 많은 페이지 분포됨"
   ]
  },
  {
   "cell_type": "code",
   "execution_count": 127,
   "metadata": {},
   "outputs": [
    {
     "data": {
      "text/plain": [
       "count   7926.0000\n",
       "mean      27.0728\n",
       "std       16.8842\n",
       "min        0.0000\n",
       "25%       17.0000\n",
       "50%       25.0000\n",
       "75%       34.0000\n",
       "max      300.0000\n",
       "Name: area, dtype: float64"
      ]
     },
     "execution_count": 127,
     "metadata": {},
     "output_type": "execute_result"
    }
   ],
   "source": [
    "page_si['area'].dropna().apply(lambda x: int(re.sub(r'[^\\d]', '', x))).describe()"
   ]
  },
  {
   "cell_type": "code",
   "execution_count": 128,
   "metadata": {},
   "outputs": [
    {
     "data": {
      "text/plain": [
       "<AxesSubplot: >"
      ]
     },
     "execution_count": 128,
     "metadata": {},
     "output_type": "execute_result"
    },
    {
     "data": {
      "image/png": "[encoded data removed]",
      "text/plain": [
       "<Figure size 640x480 with 1 Axes>"
      ]
     },
     "metadata": {},
     "output_type": "display_data"
    }
   ],
   "source": [
    "page_si['area'].dropna().apply(lambda x: int(re.sub(r'[^\\d]', '', x))).hist(bins=10)"
   ]
  },
  {
   "cell_type": "code",
   "execution_count": 129,
   "metadata": {},
   "outputs": [
    {
     "data": {
      "text/plain": [
       "0.9436459909228442"
      ]
     },
     "execution_count": 129,
     "metadata": {},
     "output_type": "execute_result"
    }
   ],
   "source": [
    "(page_si['area'].dropna().apply(lambda x: int(re.sub(r'[^\\d]', '', x))) <= 50).sum() / page_si.shape[0]"
   ]
  },
  {
   "attachments": {},
   "cell_type": "markdown",
   "metadata": {},
   "source": [
    "50평 이하가 약 94% 이고 그 이상은 적음"
   ]
  },
  {
   "cell_type": "code",
   "execution_count": 130,
   "metadata": {},
   "outputs": [
    {
     "name": "stdout",
     "output_type": "stream",
     "text": [
      "셀프•DIY    4280\n",
      "전문가       2334\n",
      "반셀프       1318\n",
      "Name: agent, dtype: int64\n",
      "셀프•DIY   53.9586\n",
      "전문가      29.4251\n",
      "반셀프      16.6162\n",
      "Name: agent, dtype: float64\n"
     ]
    }
   ],
   "source": [
    "print(page_si['agent'].value_counts())\n",
    "print(page_si['agent'].value_counts()/page_si.shape[0]*100)"
   ]
  },
  {
   "attachments": {},
   "cell_type": "markdown",
   "metadata": {},
   "source": [
    "셀프가 53%, 전문가 30%, 반셀프 17% 정도"
   ]
  },
  {
   "cell_type": "code",
   "execution_count": 131,
   "metadata": {},
   "outputs": [
    {
     "name": "stdout",
     "output_type": "stream",
     "text": [
      "홈스타일링    4372\n",
      "리모델링     2588\n",
      "부분공사      639\n",
      "건축        319\n",
      "청소         14\n",
      "Name: expertise, dtype: int64\n",
      "홈스타일링   55.1185\n",
      "리모델링    32.6273\n",
      "부분공사     8.0560\n",
      "건축       4.0217\n",
      "청소       0.1765\n",
      "Name: expertise, dtype: float64\n"
     ]
    }
   ],
   "source": [
    "print(page_si['expertise'].value_counts())\n",
    "print(page_si['expertise'].value_counts()/page_si.shape[0]*100)"
   ]
  },
  {
   "attachments": {},
   "cell_type": "markdown",
   "metadata": {},
   "source": [
    "홈스타일링 55%, 리모델링 33%로 대부분을 차지"
   ]
  },
  {
   "cell_type": "code",
   "execution_count": 132,
   "metadata": {},
   "outputs": [
    {
     "name": "stdout",
     "output_type": "stream",
     "text": [
      "['신혼부부']                                       3145\n",
      "['싱글라이프']                                      1701\n",
      "['아기가 있는 집']                                   1219\n",
      "['취학 자녀가 있는 집']                                 746\n",
      "['부모님과 함께 사는 집']                                478\n",
      "['기타']                                          318\n",
      "[]                                              114\n",
      "['신혼부부', '아기가 있는 집']                             61\n",
      "['신혼부부', '기타']                                   42\n",
      "['아기가 있는 집', '취학 자녀가 있는 집']                      36\n",
      "['싱글라이프', '기타']                                  29\n",
      "['취학 자녀가 있는 집', '부모님과 함께 사는 집']                   6\n",
      "['아기가 있는 집', '기타']                                5\n",
      "['싱글라이프', '부모님과 함께 사는 집']                         5\n",
      "['부모님과 함께 사는 집', '기타']                            5\n",
      "['신혼부부', '아기가 있는 집', '기타']                        5\n",
      "['취학 자녀가 있는 집', '기타']                             5\n",
      "['아기가 있는 집', '취학 자녀가 있는 집', '기타']                 3\n",
      "['신혼부부', '부모님과 함께 사는 집']                          2\n",
      "['아기가 있는 집', '부모님과 함께 사는 집']                      2\n",
      "['싱글라이프', '부모님과 함께 사는 집', '기타']                   2\n",
      "['싱글라이프', '신혼부부', '기타']                           1\n",
      "['아기가 있는 집', '취학 자녀가 있는 집', '부모님과 함께 사는 집']       1\n",
      "['싱글라이프', '신혼부부']                                 1\n",
      "Name: family_list, dtype: int64\n",
      "['신혼부부']                                      39.6495\n",
      "['싱글라이프']                                     21.4448\n",
      "['아기가 있는 집']                                  15.3681\n",
      "['취학 자녀가 있는 집']                                9.4049\n",
      "['부모님과 함께 사는 집']                               6.0262\n",
      "['기타']                                         4.0091\n",
      "[]                                             1.4372\n",
      "['신혼부부', '아기가 있는 집']                           0.7690\n",
      "['신혼부부', '기타']                                 0.5295\n",
      "['아기가 있는 집', '취학 자녀가 있는 집']                    0.4539\n",
      "['싱글라이프', '기타']                                0.3656\n",
      "['취학 자녀가 있는 집', '부모님과 함께 사는 집']                0.0756\n",
      "['아기가 있는 집', '기타']                             0.0630\n",
      "['싱글라이프', '부모님과 함께 사는 집']                      0.0630\n",
      "['부모님과 함께 사는 집', '기타']                         0.0630\n",
      "['신혼부부', '아기가 있는 집', '기타']                     0.0630\n",
      "['취학 자녀가 있는 집', '기타']                          0.0630\n",
      "['아기가 있는 집', '취학 자녀가 있는 집', '기타']              0.0378\n",
      "['신혼부부', '부모님과 함께 사는 집']                       0.0252\n",
      "['아기가 있는 집', '부모님과 함께 사는 집']                   0.0252\n",
      "['싱글라이프', '부모님과 함께 사는 집', '기타']                0.0252\n",
      "['싱글라이프', '신혼부부', '기타']                        0.0126\n",
      "['아기가 있는 집', '취학 자녀가 있는 집', '부모님과 함께 사는 집']    0.0126\n",
      "['싱글라이프', '신혼부부']                              0.0126\n",
      "Name: family_list, dtype: float64\n"
     ]
    }
   ],
   "source": [
    "print(page_si['family_list'].value_counts())\n",
    "print(page_si['family_list'].value_counts()/page_si.shape[0]*100)"
   ]
  },
  {
   "attachments": {},
   "cell_type": "markdown",
   "metadata": {},
   "source": [
    "신혼부부, 싱글라이프, 아기가 있는 집 - 이 세 카테고리가 각각 40%, 21%, 15%로 대부분을 차지"
   ]
  },
  {
   "cell_type": "code",
   "execution_count": 133,
   "metadata": {},
   "outputs": [
    {
     "data": {
      "text/html": [
       "<div>\n",
       "<style scoped>\n",
       "    .dataframe tbody tr th:only-of-type {\n",
       "        vertical-align: middle;\n",
       "    }\n",
       "\n",
       "    .dataframe tbody tr th {\n",
       "        vertical-align: top;\n",
       "    }\n",
       "\n",
       "    .dataframe thead th {\n",
       "        text-align: right;\n",
       "    }\n",
       "</style>\n",
       "<table border=\"1\" class=\"dataframe\">\n",
       "  <thead>\n",
       "    <tr style=\"text-align: right;\">\n",
       "      <th></th>\n",
       "      <th>page_id</th>\n",
       "      <th>title</th>\n",
       "      <th>timestamp</th>\n",
       "      <th>residence</th>\n",
       "      <th>area</th>\n",
       "      <th>agent</th>\n",
       "      <th>expertise</th>\n",
       "      <th>family_list</th>\n",
       "      <th>style_list</th>\n",
       "      <th>budget</th>\n",
       "    </tr>\n",
       "  </thead>\n",
       "  <tbody>\n",
       "    <tr>\n",
       "      <th>172</th>\n",
       "      <td>132293</td>\n",
       "      <td>빈티지 무드 아이템으로 아늑함을 담은 구축 아파트</td>\n",
       "      <td>2022-11-29T11:41:13.000+09:00</td>\n",
       "      <td>아파트</td>\n",
       "      <td>34평</td>\n",
       "      <td>셀프•DIY</td>\n",
       "      <td>홈스타일링</td>\n",
       "      <td>['신혼부부']</td>\n",
       "      <td>[]</td>\n",
       "      <td>0</td>\n",
       "    </tr>\n",
       "    <tr>\n",
       "      <th>190</th>\n",
       "      <td>130590</td>\n",
       "      <td>인테리어에 진심인, 아이와 반려견이 함께 타워 팰리스</td>\n",
       "      <td>2022-11-26T08:05:33.000+09:00</td>\n",
       "      <td>아파트</td>\n",
       "      <td>43평</td>\n",
       "      <td>반셀프</td>\n",
       "      <td>홈스타일링</td>\n",
       "      <td>['아기가 있는 집']</td>\n",
       "      <td>[]</td>\n",
       "      <td>6000</td>\n",
       "    </tr>\n",
       "    <tr>\n",
       "      <th>297</th>\n",
       "      <td>129227</td>\n",
       "      <td>퇴근 후에는 집이 좋습니다. 15평 아늑한 집</td>\n",
       "      <td>2022-11-04T09:54:08.000+09:00</td>\n",
       "      <td>아파트</td>\n",
       "      <td>15평</td>\n",
       "      <td>셀프•DIY</td>\n",
       "      <td>홈스타일링</td>\n",
       "      <td>['싱글라이프']</td>\n",
       "      <td>[]</td>\n",
       "      <td>0</td>\n",
       "    </tr>\n",
       "    <tr>\n",
       "      <th>307</th>\n",
       "      <td>128390</td>\n",
       "      <td>거실을 다이닝룸으로, 함께 모일 수 있는 신혼부부의 집</td>\n",
       "      <td>2022-11-02T12:30:45.000+09:00</td>\n",
       "      <td>아파트</td>\n",
       "      <td>25평</td>\n",
       "      <td>전문가</td>\n",
       "      <td>리모델링</td>\n",
       "      <td>['신혼부부']</td>\n",
       "      <td>[]</td>\n",
       "      <td>5000</td>\n",
       "    </tr>\n",
       "    <tr>\n",
       "      <th>336</th>\n",
       "      <td>127535</td>\n",
       "      <td>제주에서 강아지들과 함께하는 초보 주택러🏡</td>\n",
       "      <td>2022-10-29T08:05:23.000+09:00</td>\n",
       "      <td>단독주택</td>\n",
       "      <td>30평</td>\n",
       "      <td>셀프•DIY</td>\n",
       "      <td>홈스타일링</td>\n",
       "      <td>['신혼부부']</td>\n",
       "      <td>[]</td>\n",
       "      <td>0</td>\n",
       "    </tr>\n",
       "    <tr>\n",
       "      <th>...</th>\n",
       "      <td>...</td>\n",
       "      <td>...</td>\n",
       "      <td>...</td>\n",
       "      <td>...</td>\n",
       "      <td>...</td>\n",
       "      <td>...</td>\n",
       "      <td>...</td>\n",
       "      <td>...</td>\n",
       "      <td>...</td>\n",
       "      <td>...</td>\n",
       "    </tr>\n",
       "    <tr>\n",
       "      <th>7776</th>\n",
       "      <td>893</td>\n",
       "      <td>집 꾸미기 인테리어</td>\n",
       "      <td>2015-04-04T22:47:08.000+09:00</td>\n",
       "      <td>원룸&amp;오피스텔</td>\n",
       "      <td>10평대</td>\n",
       "      <td>셀프•DIY</td>\n",
       "      <td>홈스타일링</td>\n",
       "      <td>[]</td>\n",
       "      <td>[]</td>\n",
       "      <td>0</td>\n",
       "    </tr>\n",
       "    <tr>\n",
       "      <th>7777</th>\n",
       "      <td>892</td>\n",
       "      <td>소박한 자취방 인테리어*^^*</td>\n",
       "      <td>2015-04-04T14:48:05.000+09:00</td>\n",
       "      <td>원룸&amp;오피스텔</td>\n",
       "      <td>10평 미만</td>\n",
       "      <td>셀프•DIY</td>\n",
       "      <td>홈스타일링</td>\n",
       "      <td>[]</td>\n",
       "      <td>[]</td>\n",
       "      <td>0</td>\n",
       "    </tr>\n",
       "    <tr>\n",
       "      <th>7812</th>\n",
       "      <td>794</td>\n",
       "      <td>화이트 페인팅</td>\n",
       "      <td>2015-03-10T17:37:25.000+09:00</td>\n",
       "      <td>빌라&amp;연립</td>\n",
       "      <td>30평대</td>\n",
       "      <td>셀프•DIY</td>\n",
       "      <td>홈스타일링</td>\n",
       "      <td>[]</td>\n",
       "      <td>[]</td>\n",
       "      <td>0</td>\n",
       "    </tr>\n",
       "    <tr>\n",
       "      <th>7835</th>\n",
       "      <td>744</td>\n",
       "      <td>원목욕실 셀프인테리어</td>\n",
       "      <td>2015-02-22T22:23:14.000+09:00</td>\n",
       "      <td>빌라&amp;연립</td>\n",
       "      <td>20평대</td>\n",
       "      <td>셀프•DIY</td>\n",
       "      <td>부분공사</td>\n",
       "      <td>[]</td>\n",
       "      <td>[]</td>\n",
       "      <td>60</td>\n",
       "    </tr>\n",
       "    <tr>\n",
       "      <th>7841</th>\n",
       "      <td>736</td>\n",
       "      <td>봉봉새댁 좌충우돌 신혼집</td>\n",
       "      <td>2015-02-17T14:20:37.000+09:00</td>\n",
       "      <td>아파트</td>\n",
       "      <td>20평대</td>\n",
       "      <td>셀프•DIY</td>\n",
       "      <td>홈스타일링</td>\n",
       "      <td>[]</td>\n",
       "      <td>[]</td>\n",
       "      <td>550</td>\n",
       "    </tr>\n",
       "  </tbody>\n",
       "</table>\n",
       "<p>859 rows × 10 columns</p>\n",
       "</div>"
      ],
      "text/plain": [
       "      page_id                           title                      timestamp  \\\n",
       "172    132293     빈티지 무드 아이템으로 아늑함을 담은 구축 아파트  2022-11-29T11:41:13.000+09:00   \n",
       "190    130590   인테리어에 진심인, 아이와 반려견이 함께 타워 팰리스  2022-11-26T08:05:33.000+09:00   \n",
       "297    129227       퇴근 후에는 집이 좋습니다. 15평 아늑한 집  2022-11-04T09:54:08.000+09:00   \n",
       "307    128390  거실을 다이닝룸으로, 함께 모일 수 있는 신혼부부의 집  2022-11-02T12:30:45.000+09:00   \n",
       "336    127535        제주에서 강아지들과 함께하는 초보 주택러🏡   2022-10-29T08:05:23.000+09:00   \n",
       "...       ...                             ...                            ...   \n",
       "7776      893                      집 꾸미기 인테리어  2015-04-04T22:47:08.000+09:00   \n",
       "7777      892                소박한 자취방 인테리어*^^*  2015-04-04T14:48:05.000+09:00   \n",
       "7812      794                        화이트 페인팅   2015-03-10T17:37:25.000+09:00   \n",
       "7835      744                     원목욕실 셀프인테리어  2015-02-22T22:23:14.000+09:00   \n",
       "7841      736                   봉봉새댁 좌충우돌 신혼집  2015-02-17T14:20:37.000+09:00   \n",
       "\n",
       "     residence    area   agent expertise   family_list style_list  budget  \n",
       "172        아파트     34평  셀프•DIY     홈스타일링      ['신혼부부']         []       0  \n",
       "190        아파트     43평     반셀프     홈스타일링  ['아기가 있는 집']         []    6000  \n",
       "297        아파트     15평  셀프•DIY     홈스타일링     ['싱글라이프']         []       0  \n",
       "307        아파트     25평     전문가      리모델링      ['신혼부부']         []    5000  \n",
       "336       단독주택     30평  셀프•DIY     홈스타일링      ['신혼부부']         []       0  \n",
       "...        ...     ...     ...       ...           ...        ...     ...  \n",
       "7776   원룸&오피스텔    10평대  셀프•DIY     홈스타일링            []         []       0  \n",
       "7777   원룸&오피스텔  10평 미만  셀프•DIY     홈스타일링            []         []       0  \n",
       "7812     빌라&연립    30평대  셀프•DIY     홈스타일링            []         []       0  \n",
       "7835     빌라&연립    20평대  셀프•DIY      부분공사            []         []      60  \n",
       "7841       아파트    20평대  셀프•DIY     홈스타일링            []         []     550  \n",
       "\n",
       "[859 rows x 10 columns]"
      ]
     },
     "execution_count": 133,
     "metadata": {},
     "output_type": "execute_result"
    }
   ],
   "source": [
    "page_si[page_si['style_list'] == '[]']"
   ]
  },
  {
   "cell_type": "code",
   "execution_count": 134,
   "metadata": {},
   "outputs": [
    {
     "data": {
      "text/plain": [
       "내추럴        0.3389\n",
       "모던         0.2031\n",
       "미니멀&심플     0.1225\n",
       "빈티지&레트로    0.0785\n",
       "           0.0747\n",
       "북유럽        0.0684\n",
       "유니크&믹스매치   0.0404\n",
       "러블리&로맨틱    0.0261\n",
       "클래식&앤틱     0.0229\n",
       "프렌치&프로방스   0.0105\n",
       "한국&아시아     0.0100\n",
       "인더스트리얼     0.0040\n",
       "dtype: float64"
      ]
     },
     "execution_count": 134,
     "metadata": {},
     "output_type": "execute_result"
    }
   ],
   "source": [
    "# sum(page_si['style_list'].apply(lambda x: re.sub(r\"\\'\", '', x[1:-1]).split(', ')).tolist(), [])\n",
    "pd.Series(sum(page_si['style_list'].apply(lambda x: re.sub(r\"\\'\", '', x[1:-1]).split(', ')).tolist(), [])).value_counts() / pd.Series(sum(page_si['style_list'].apply(lambda x: re.sub(r\"\\'\", '', x[1:-1]).split(', ')).tolist(), [])).value_counts().sum()"
   ]
  },
  {
   "attachments": {},
   "cell_type": "markdown",
   "metadata": {},
   "source": [
    "style의 경우 여러개 선택한 페이지가 많아 집계가 쉽지 않음\n",
    "\n",
    "다 떼서 보면 내추럴, 모던, 미니멀&심플 이 34%, 20%, 12%로 주로 존재\n",
    "\n",
    "참고) [] 인 데이터 존재 -> 해당 카테고리 입력하지 않은 케이스"
   ]
  },
  {
   "cell_type": "code",
   "execution_count": 135,
   "metadata": {},
   "outputs": [
    {
     "data": {
      "text/plain": [
       "count       3662.0000\n",
       "mean        5379.4552\n",
       "std       173379.5328\n",
       "min            4.0000\n",
       "25%          200.0000\n",
       "50%         1000.0000\n",
       "75%         3500.0000\n",
       "max     10490500.0000\n",
       "Name: budget, dtype: float64"
      ]
     },
     "execution_count": 135,
     "metadata": {},
     "output_type": "execute_result"
    }
   ],
   "source": [
    "page_si['budget'][page_si['budget']!=0].describe()"
   ]
  },
  {
   "cell_type": "code",
   "execution_count": 136,
   "metadata": {},
   "outputs": [
    {
     "data": {
      "text/html": [
       "<div>\n",
       "<style scoped>\n",
       "    .dataframe tbody tr th:only-of-type {\n",
       "        vertical-align: middle;\n",
       "    }\n",
       "\n",
       "    .dataframe tbody tr th {\n",
       "        vertical-align: top;\n",
       "    }\n",
       "\n",
       "    .dataframe thead th {\n",
       "        text-align: right;\n",
       "    }\n",
       "</style>\n",
       "<table border=\"1\" class=\"dataframe\">\n",
       "  <thead>\n",
       "    <tr style=\"text-align: right;\">\n",
       "      <th></th>\n",
       "      <th>page_id</th>\n",
       "      <th>title</th>\n",
       "      <th>timestamp</th>\n",
       "      <th>residence</th>\n",
       "      <th>area</th>\n",
       "      <th>agent</th>\n",
       "      <th>expertise</th>\n",
       "      <th>family_list</th>\n",
       "      <th>style_list</th>\n",
       "      <th>budget</th>\n",
       "    </tr>\n",
       "  </thead>\n",
       "  <tbody>\n",
       "    <tr>\n",
       "      <th>5769</th>\n",
       "      <td>12445</td>\n",
       "      <td>간단한 셀프페인팅으로 우리의 색을 불어넣은 신혼집.</td>\n",
       "      <td>2019-06-24T10:05:19.000+09:00</td>\n",
       "      <td>아파트</td>\n",
       "      <td>25평</td>\n",
       "      <td>셀프•DIY</td>\n",
       "      <td>홈스타일링</td>\n",
       "      <td>['신혼부부']</td>\n",
       "      <td>['모던', '미니멀&amp;심플', '내추럴']</td>\n",
       "      <td>4</td>\n",
       "    </tr>\n",
       "    <tr>\n",
       "      <th>4313</th>\n",
       "      <td>33889</td>\n",
       "      <td>우리가 꿈꾸던 모던 프렌치, 사랑스러운 전원생활</td>\n",
       "      <td>2020-08-01T08:05:13.000+09:00</td>\n",
       "      <td>단독주택</td>\n",
       "      <td>51평</td>\n",
       "      <td>반셀프</td>\n",
       "      <td>건축</td>\n",
       "      <td>['신혼부부']</td>\n",
       "      <td>['프렌치&amp;프로방스']</td>\n",
       "      <td>5</td>\n",
       "    </tr>\n",
       "    <tr>\n",
       "      <th>7326</th>\n",
       "      <td>2319</td>\n",
       "      <td>썸머룸 프로젝트_안방편</td>\n",
       "      <td>2016-08-04T22:58:15.000+09:00</td>\n",
       "      <td>아파트</td>\n",
       "      <td>30평대</td>\n",
       "      <td>셀프•DIY</td>\n",
       "      <td>부분공사</td>\n",
       "      <td>['아기가 있는 집']</td>\n",
       "      <td>['유니크&amp;믹스매치']</td>\n",
       "      <td>5</td>\n",
       "    </tr>\n",
       "    <tr>\n",
       "      <th>7588</th>\n",
       "      <td>1422</td>\n",
       "      <td>아이디어를 담은 소품으로 꾸민 공간</td>\n",
       "      <td>2015-10-18T18:19:40.000+09:00</td>\n",
       "      <td>빌라&amp;연립</td>\n",
       "      <td>10평대</td>\n",
       "      <td>셀프•DIY</td>\n",
       "      <td>리모델링</td>\n",
       "      <td>['신혼부부']</td>\n",
       "      <td>['내추럴']</td>\n",
       "      <td>6</td>\n",
       "    </tr>\n",
       "    <tr>\n",
       "      <th>7382</th>\n",
       "      <td>2060</td>\n",
       "      <td>알파벳 셀프 페인팅으로 아들방 재탄생</td>\n",
       "      <td>2016-05-20T20:23:16.000+09:00</td>\n",
       "      <td>아파트</td>\n",
       "      <td>30평대</td>\n",
       "      <td>셀프•DIY</td>\n",
       "      <td>부분공사</td>\n",
       "      <td>['취학 자녀가 있는 집']</td>\n",
       "      <td>['유니크&amp;믹스매치']</td>\n",
       "      <td>7</td>\n",
       "    </tr>\n",
       "    <tr>\n",
       "      <th>7697</th>\n",
       "      <td>1100</td>\n",
       "      <td>DIY 원목가구 빈티지 좌식형</td>\n",
       "      <td>2015-06-18T16:26:29.000+09:00</td>\n",
       "      <td>단독주택</td>\n",
       "      <td>9평</td>\n",
       "      <td>셀프•DIY</td>\n",
       "      <td>홈스타일링</td>\n",
       "      <td>['싱글라이프']</td>\n",
       "      <td>['내추럴']</td>\n",
       "      <td>8</td>\n",
       "    </tr>\n",
       "    <tr>\n",
       "      <th>5620</th>\n",
       "      <td>13791</td>\n",
       "      <td>또 다른 나의 얼굴, 나의 원룸</td>\n",
       "      <td>2019-08-03T10:05:18.000+09:00</td>\n",
       "      <td>원룸&amp;오피스텔</td>\n",
       "      <td>8평</td>\n",
       "      <td>셀프•DIY</td>\n",
       "      <td>홈스타일링</td>\n",
       "      <td>['싱글라이프']</td>\n",
       "      <td>['모던', '미니멀&amp;심플', '내추럴']</td>\n",
       "      <td>10</td>\n",
       "    </tr>\n",
       "    <tr>\n",
       "      <th>7680</th>\n",
       "      <td>1132</td>\n",
       "      <td>생각의 전환</td>\n",
       "      <td>2015-07-03T10:48:34.000+09:00</td>\n",
       "      <td>아파트</td>\n",
       "      <td>20평대</td>\n",
       "      <td>셀프•DIY</td>\n",
       "      <td>부분공사</td>\n",
       "      <td>['신혼부부']</td>\n",
       "      <td>['내추럴']</td>\n",
       "      <td>10</td>\n",
       "    </tr>\n",
       "    <tr>\n",
       "      <th>7354</th>\n",
       "      <td>2206</td>\n",
       "      <td>재활용리폼으로 완성한 정원집들이</td>\n",
       "      <td>2016-06-29T12:27:42.000+09:00</td>\n",
       "      <td>단독주택</td>\n",
       "      <td>50평 이상</td>\n",
       "      <td>셀프•DIY</td>\n",
       "      <td>홈스타일링</td>\n",
       "      <td>[]</td>\n",
       "      <td>['유니크&amp;믹스매치']</td>\n",
       "      <td>10</td>\n",
       "    </tr>\n",
       "    <tr>\n",
       "      <th>7353</th>\n",
       "      <td>2219</td>\n",
       "      <td>딸을 위한 캠핑컨셉 핫핑크 공간</td>\n",
       "      <td>2016-07-01T18:20:37.000+09:00</td>\n",
       "      <td>아파트</td>\n",
       "      <td>30평대</td>\n",
       "      <td>셀프•DIY</td>\n",
       "      <td>리모델링</td>\n",
       "      <td>['아기가 있는 집']</td>\n",
       "      <td>['북유럽']</td>\n",
       "      <td>10</td>\n",
       "    </tr>\n",
       "  </tbody>\n",
       "</table>\n",
       "</div>"
      ],
      "text/plain": [
       "      page_id                         title                      timestamp  \\\n",
       "5769    12445  간단한 셀프페인팅으로 우리의 색을 불어넣은 신혼집.  2019-06-24T10:05:19.000+09:00   \n",
       "4313    33889    우리가 꿈꾸던 모던 프렌치, 사랑스러운 전원생활  2020-08-01T08:05:13.000+09:00   \n",
       "7326     2319                  썸머룸 프로젝트_안방편  2016-08-04T22:58:15.000+09:00   \n",
       "7588     1422           아이디어를 담은 소품으로 꾸민 공간  2015-10-18T18:19:40.000+09:00   \n",
       "7382     2060          알파벳 셀프 페인팅으로 아들방 재탄생  2016-05-20T20:23:16.000+09:00   \n",
       "7697     1100              DIY 원목가구 빈티지 좌식형  2015-06-18T16:26:29.000+09:00   \n",
       "5620    13791             또 다른 나의 얼굴, 나의 원룸  2019-08-03T10:05:18.000+09:00   \n",
       "7680     1132                        생각의 전환  2015-07-03T10:48:34.000+09:00   \n",
       "7354     2206             재활용리폼으로 완성한 정원집들이  2016-06-29T12:27:42.000+09:00   \n",
       "7353     2219             딸을 위한 캠핑컨셉 핫핑크 공간  2016-07-01T18:20:37.000+09:00   \n",
       "\n",
       "     residence    area   agent expertise      family_list  \\\n",
       "5769       아파트     25평  셀프•DIY     홈스타일링         ['신혼부부']   \n",
       "4313      단독주택     51평     반셀프        건축         ['신혼부부']   \n",
       "7326       아파트    30평대  셀프•DIY      부분공사     ['아기가 있는 집']   \n",
       "7588     빌라&연립    10평대  셀프•DIY      리모델링         ['신혼부부']   \n",
       "7382       아파트    30평대  셀프•DIY      부분공사  ['취학 자녀가 있는 집']   \n",
       "7697      단독주택      9평  셀프•DIY     홈스타일링        ['싱글라이프']   \n",
       "5620   원룸&오피스텔      8평  셀프•DIY     홈스타일링        ['싱글라이프']   \n",
       "7680       아파트    20평대  셀프•DIY      부분공사         ['신혼부부']   \n",
       "7354      단독주택  50평 이상  셀프•DIY     홈스타일링               []   \n",
       "7353       아파트    30평대  셀프•DIY      리모델링     ['아기가 있는 집']   \n",
       "\n",
       "                   style_list  budget  \n",
       "5769  ['모던', '미니멀&심플', '내추럴']       4  \n",
       "4313             ['프렌치&프로방스']       5  \n",
       "7326             ['유니크&믹스매치']       5  \n",
       "7588                  ['내추럴']       6  \n",
       "7382             ['유니크&믹스매치']       7  \n",
       "7697                  ['내추럴']       8  \n",
       "5620  ['모던', '미니멀&심플', '내추럴']      10  \n",
       "7680                  ['내추럴']      10  \n",
       "7354             ['유니크&믹스매치']      10  \n",
       "7353                  ['북유럽']      10  "
      ]
     },
     "execution_count": 136,
     "metadata": {},
     "output_type": "execute_result"
    }
   ],
   "source": [
    "page_si[page_si['budget']!=0].sort_values('budget').head(10)"
   ]
  },
  {
   "attachments": {},
   "cell_type": "markdown",
   "metadata": {},
   "source": [
    "budget이 4~10으로 적은 페이지 확인 결과, 페이지에 기재된 예산과 상이...\n",
    "\n",
    "큰 금액은 얼추 맞는 것 같은데, 너무 적은 페이지의 경우 신뢰하기 어려워 해당 컬럼 활용 시 유의할 필요 있음"
   ]
  },
  {
   "attachments": {},
   "cell_type": "markdown",
   "metadata": {},
   "source": [
    "## `page_product`"
   ]
  },
  {
   "cell_type": "code",
   "execution_count": 137,
   "metadata": {},
   "outputs": [
    {
     "data": {
      "text/html": [
       "<div>\n",
       "<style scoped>\n",
       "    .dataframe tbody tr th:only-of-type {\n",
       "        vertical-align: middle;\n",
       "    }\n",
       "\n",
       "    .dataframe tbody tr th {\n",
       "        vertical-align: top;\n",
       "    }\n",
       "\n",
       "    .dataframe thead th {\n",
       "        text-align: right;\n",
       "    }\n",
       "</style>\n",
       "<table border=\"1\" class=\"dataframe\">\n",
       "  <thead>\n",
       "    <tr style=\"text-align: right;\">\n",
       "      <th></th>\n",
       "      <th>page_id</th>\n",
       "      <th>product_id</th>\n",
       "    </tr>\n",
       "  </thead>\n",
       "  <tbody>\n",
       "    <tr>\n",
       "      <th>0</th>\n",
       "      <td>133556</td>\n",
       "      <td>32125</td>\n",
       "    </tr>\n",
       "    <tr>\n",
       "      <th>1</th>\n",
       "      <td>133556</td>\n",
       "      <td>33050</td>\n",
       "    </tr>\n",
       "    <tr>\n",
       "      <th>2</th>\n",
       "      <td>133556</td>\n",
       "      <td>75758</td>\n",
       "    </tr>\n",
       "    <tr>\n",
       "      <th>3</th>\n",
       "      <td>133556</td>\n",
       "      <td>101921</td>\n",
       "    </tr>\n",
       "    <tr>\n",
       "      <th>4</th>\n",
       "      <td>133556</td>\n",
       "      <td>110328</td>\n",
       "    </tr>\n",
       "    <tr>\n",
       "      <th>...</th>\n",
       "      <td>...</td>\n",
       "      <td>...</td>\n",
       "    </tr>\n",
       "    <tr>\n",
       "      <th>345266</th>\n",
       "      <td>318</td>\n",
       "      <td>2258</td>\n",
       "    </tr>\n",
       "    <tr>\n",
       "      <th>345267</th>\n",
       "      <td>318</td>\n",
       "      <td>2259</td>\n",
       "    </tr>\n",
       "    <tr>\n",
       "      <th>345268</th>\n",
       "      <td>318</td>\n",
       "      <td>2261</td>\n",
       "    </tr>\n",
       "    <tr>\n",
       "      <th>345269</th>\n",
       "      <td>318</td>\n",
       "      <td>2262</td>\n",
       "    </tr>\n",
       "    <tr>\n",
       "      <th>345270</th>\n",
       "      <td>318</td>\n",
       "      <td>2263</td>\n",
       "    </tr>\n",
       "  </tbody>\n",
       "</table>\n",
       "<p>345271 rows × 2 columns</p>\n",
       "</div>"
      ],
      "text/plain": [
       "        page_id  product_id\n",
       "0        133556       32125\n",
       "1        133556       33050\n",
       "2        133556       75758\n",
       "3        133556      101921\n",
       "4        133556      110328\n",
       "...         ...         ...\n",
       "345266      318        2258\n",
       "345267      318        2259\n",
       "345268      318        2261\n",
       "345269      318        2262\n",
       "345270      318        2263\n",
       "\n",
       "[345271 rows x 2 columns]"
      ]
     },
     "execution_count": 137,
     "metadata": {},
     "output_type": "execute_result"
    }
   ],
   "source": [
    "page_product"
   ]
  },
  {
   "cell_type": "code",
   "execution_count": 138,
   "metadata": {},
   "outputs": [
    {
     "data": {
      "text/plain": [
       "page_id         7861\n",
       "product_id    131408\n",
       "dtype: int64"
      ]
     },
     "execution_count": 138,
     "metadata": {},
     "output_type": "execute_result"
    }
   ],
   "source": [
    "page_product.nunique()"
   ]
  },
  {
   "attachments": {},
   "cell_type": "markdown",
   "metadata": {},
   "source": [
    "item_id를 추출한 page_id는 총 7861개, 그에 따른 unique item_id 수는 131408개\n",
    "\n",
    "row 수가 345271인 것에 비해 유니크한 item_id 수가 현저히 적어 여러 페이지에 중복으로 포함된 상품들 다수 존재하는 듯"
   ]
  },
  {
   "cell_type": "code",
   "execution_count": 139,
   "metadata": {},
   "outputs": [],
   "source": [
    "# page_product['item_id'].value_counts()[page_product['item_id'].value_counts() > 1]"
   ]
  },
  {
   "attachments": {},
   "cell_type": "markdown",
   "metadata": {},
   "source": [
    "47813개 item이 중복으로 포함되어, 최대 743개 페이지에 중복으로 포함된 아이템 존재\n",
    "\n",
    "item_id에 page_id의 카테고리 정보를 merge 할 때, 이러한 여러 페이지에 중복으로 포함된 아이템의 경우 어떻게 처리할지...?"
   ]
  },
  {
   "attachments": {},
   "cell_type": "markdown",
   "metadata": {},
   "source": [
    "## `review_1234`"
   ]
  },
  {
   "cell_type": "code",
   "execution_count": 140,
   "metadata": {},
   "outputs": [
    {
     "data": {
      "text/plain": [
       "(14429798, 10)"
      ]
     },
     "execution_count": 140,
     "metadata": {},
     "output_type": "execute_result"
    }
   ],
   "source": [
    "review_1234.shape"
   ]
  },
  {
   "attachments": {},
   "cell_type": "markdown",
   "metadata": {},
   "source": [
    "총 14429798개의 interaction 존재 -> 너무 많음 ㅠ"
   ]
  },
  {
   "cell_type": "code",
   "execution_count": 141,
   "metadata": {},
   "outputs": [
    {
     "data": {
      "text/plain": [
       "user_id    2023942\n",
       "item_id      80724\n",
       "dtype: int64"
      ]
     },
     "execution_count": 141,
     "metadata": {},
     "output_type": "execute_result"
    }
   ],
   "source": [
    "review_1234[['user_id', 'item_id']].nunique()"
   ]
  },
  {
   "attachments": {},
   "cell_type": "markdown",
   "metadata": {},
   "source": [
    "총 유저는 2023942명, 상품은 80724개"
   ]
  },
  {
   "cell_type": "code",
   "execution_count": 142,
   "metadata": {},
   "outputs": [
    {
     "data": {
      "text/plain": [
       "item_id                 0\n",
       "user_id                 0\n",
       "time                    0\n",
       "star_avg                0\n",
       "star_durability         0\n",
       "star_design             0\n",
       "star_cost               0\n",
       "star_delivery           0\n",
       "review                 40\n",
       "option             244549\n",
       "dtype: int64"
      ]
     },
     "execution_count": 142,
     "metadata": {},
     "output_type": "execute_result"
    }
   ],
   "source": [
    "review_1234.isna().sum()"
   ]
  },
  {
   "attachments": {},
   "cell_type": "markdown",
   "metadata": {},
   "source": [
    "review 40개 결측, option은 244549개 결측"
   ]
  },
  {
   "cell_type": "code",
   "execution_count": 143,
   "metadata": {},
   "outputs": [
    {
     "data": {
      "text/plain": [
       "2016.06         1\n",
       "2016.07        12\n",
       "2016.08        56\n",
       "2016.09        40\n",
       "2016.10        58\n",
       "            ...  \n",
       "2022.09    343608\n",
       "2022.10    339255\n",
       "2022.11    354366\n",
       "2022.12    360244\n",
       "2023.01     59876\n",
       "Name: time, Length: 80, dtype: int64"
      ]
     },
     "execution_count": 143,
     "metadata": {},
     "output_type": "execute_result"
    }
   ],
   "source": [
    "review_1234['time'].apply(lambda x: x[:7]).value_counts().sort_index()"
   ]
  },
  {
   "cell_type": "code",
   "execution_count": 144,
   "metadata": {},
   "outputs": [
    {
     "data": {
      "text/plain": [
       "<AxesSubplot: >"
      ]
     },
     "execution_count": 144,
     "metadata": {},
     "output_type": "execute_result"
    },
    {
     "data": {
      "image/png": "[encoded data removed]",
      "text/plain": [
       "<Figure size 640x480 with 1 Axes>"
      ]
     },
     "metadata": {},
     "output_type": "display_data"
    }
   ],
   "source": [
    "review_1234['time'].apply(lambda x: x[:7]).value_counts().sort_index().plot()"
   ]
  },
  {
   "attachments": {},
   "cell_type": "markdown",
   "metadata": {},
   "source": [
    "2020.03 즈음부터 리뷰 수 급증"
   ]
  },
  {
   "cell_type": "code",
   "execution_count": 145,
   "metadata": {},
   "outputs": [
    {
     "data": {
      "text/plain": [
       "count   14429798.0000\n",
       "mean           4.6358\n",
       "std            0.5922\n",
       "min            0.0000\n",
       "25%            4.5000\n",
       "50%            5.0000\n",
       "75%            5.0000\n",
       "max            5.0000\n",
       "Name: star_avg, dtype: float64"
      ]
     },
     "execution_count": 145,
     "metadata": {},
     "output_type": "execute_result"
    }
   ],
   "source": [
    "review_1234['star_avg'].describe()"
   ]
  },
  {
   "cell_type": "code",
   "execution_count": 146,
   "metadata": {},
   "outputs": [
    {
     "data": {
      "text/plain": [
       "<AxesSubplot: >"
      ]
     },
     "execution_count": 146,
     "metadata": {},
     "output_type": "execute_result"
    },
    {
     "data": {
      "image/png": "[encoded data removed]",
      "text/plain": [
       "<Figure size 640x480 with 1 Axes>"
      ]
     },
     "metadata": {},
     "output_type": "display_data"
    }
   ],
   "source": [
    "review_1234['star_avg'].hist()"
   ]
  },
  {
   "attachments": {},
   "cell_type": "markdown",
   "metadata": {},
   "source": [
    "star_avg의 평균이 4.6, 1사분위수가 4.5로, 유저가 주로 높은 별점을 주는 듯"
   ]
  },
  {
   "cell_type": "code",
   "execution_count": 147,
   "metadata": {},
   "outputs": [],
   "source": [
    "import numpy as np"
   ]
  },
  {
   "cell_type": "code",
   "execution_count": 148,
   "metadata": {},
   "outputs": [
    {
     "data": {
      "text/plain": [
       "True"
      ]
     },
     "execution_count": 148,
     "metadata": {},
     "output_type": "execute_result"
    }
   ],
   "source": [
    "all(review_1234[['star_durability', 'star_design', 'star_cost', 'star_delivery']].iloc[0,:]== np.array([0,0,0,0]))"
   ]
  },
  {
   "cell_type": "code",
   "execution_count": 149,
   "metadata": {},
   "outputs": [],
   "source": [
    "drop_0 = ~((review_1234['star_durability']==0) & (review_1234['star_design']==0) & (review_1234['star_cost']==0) & (review_1234['star_delivery']==0) & (review_1234['star_avg']!=0))\n",
    "# review_1234[['star_durability', 'star_design', 'star_cost', 'star_delivery']][(review_1234['star_durability']==0) ]"
   ]
  },
  {
   "cell_type": "code",
   "execution_count": 150,
   "metadata": {},
   "outputs": [
    {
     "data": {
      "text/plain": [
       "<AxesSubplot: >"
      ]
     },
     "execution_count": 150,
     "metadata": {},
     "output_type": "execute_result"
    },
    {
     "data": {
      "image/png": "[encoded data removed]",
      "text/plain": [
       "<Figure size 640x480 with 1 Axes>"
      ]
     },
     "metadata": {},
     "output_type": "display_data"
    }
   ],
   "source": [
    "review_1234[drop_0]['star_durability'].value_counts().sort_index().plot(kind='bar')"
   ]
  },
  {
   "cell_type": "code",
   "execution_count": 151,
   "metadata": {},
   "outputs": [
    {
     "data": {
      "text/plain": [
       "<AxesSubplot: >"
      ]
     },
     "execution_count": 151,
     "metadata": {},
     "output_type": "execute_result"
    },
    {
     "data": {
      "image/png": "[encoded data removed]",
      "text/plain": [
       "<Figure size 640x480 with 1 Axes>"
      ]
     },
     "metadata": {},
     "output_type": "display_data"
    }
   ],
   "source": [
    "review_1234[drop_0]['star_design'].value_counts().sort_index().plot(kind='bar')"
   ]
  },
  {
   "cell_type": "code",
   "execution_count": 152,
   "metadata": {},
   "outputs": [
    {
     "data": {
      "text/plain": [
       "<AxesSubplot: >"
      ]
     },
     "execution_count": 152,
     "metadata": {},
     "output_type": "execute_result"
    },
    {
     "data": {
      "image/png": "[encoded data removed]",
      "text/plain": [
       "<Figure size 640x480 with 1 Axes>"
      ]
     },
     "metadata": {},
     "output_type": "display_data"
    }
   ],
   "source": [
    "review_1234[drop_0]['star_cost'].value_counts().sort_index().plot(kind='bar')"
   ]
  },
  {
   "cell_type": "code",
   "execution_count": 153,
   "metadata": {},
   "outputs": [
    {
     "data": {
      "text/plain": [
       "<AxesSubplot: >"
      ]
     },
     "execution_count": 153,
     "metadata": {},
     "output_type": "execute_result"
    },
    {
     "data": {
      "image/png": "[encoded data removed]",
      "text/plain": [
       "<Figure size 640x480 with 1 Axes>"
      ]
     },
     "metadata": {},
     "output_type": "display_data"
    }
   ],
   "source": [
    "review_1234[drop_0]['star_delivery'].value_counts().sort_index().plot(kind='bar')"
   ]
  },
  {
   "attachments": {},
   "cell_type": "markdown",
   "metadata": {},
   "source": [
    "별점 종류 별로 비슷하게 4~5점이 많음"
   ]
  },
  {
   "attachments": {},
   "cell_type": "markdown",
   "metadata": {},
   "source": [
    "## `product_si`"
   ]
  },
  {
   "cell_type": "code",
   "execution_count": 154,
   "metadata": {},
   "outputs": [
    {
     "data": {
      "text/plain": [
       "(128845, 22)"
      ]
     },
     "execution_count": 154,
     "metadata": {},
     "output_type": "execute_result"
    }
   ],
   "source": [
    "product_si.shape"
   ]
  },
  {
   "cell_type": "code",
   "execution_count": 155,
   "metadata": {},
   "outputs": [
    {
     "data": {
      "text/plain": [
       "item_id                        0\n",
       "title                          0\n",
       "brand                          0\n",
       "original_price                 0\n",
       "selling_price                  0\n",
       "wish_count                     0\n",
       "share_count                    0\n",
       "scrap_count                    0\n",
       "qa_count                       0\n",
       "review_count                   0\n",
       "review_avg                     0\n",
       "is_sold_out                    0\n",
       "is_selling                     0\n",
       "is_buyable                     0\n",
       "category0                      0\n",
       "category1                      0\n",
       "delivery_fee                   0\n",
       "delivery_fee_free_threshold    0\n",
       "img_main                       0\n",
       "img_sub_list                   0\n",
       "option_names                   0\n",
       "max_option_price               0\n",
       "dtype: int64"
      ]
     },
     "execution_count": 155,
     "metadata": {},
     "output_type": "execute_result"
    }
   ],
   "source": [
    "product_si.isna().sum()"
   ]
  },
  {
   "cell_type": "code",
   "execution_count": 156,
   "metadata": {},
   "outputs": [
    {
     "data": {
      "text/plain": [
       "item_id    128845\n",
       "dtype: int64"
      ]
     },
     "execution_count": 156,
     "metadata": {},
     "output_type": "execute_result"
    }
   ],
   "source": [
    "product_si[['item_id']].nunique()"
   ]
  },
  {
   "attachments": {},
   "cell_type": "markdown",
   "metadata": {},
   "source": [
    "총 128845개의 상품 존재 (전체 131408개)"
   ]
  },
  {
   "cell_type": "code",
   "execution_count": 157,
   "metadata": {},
   "outputs": [
    {
     "data": {
      "text/plain": [
       "가구       0.2111\n",
       "데코·식물    0.1998\n",
       "주방용품     0.1559\n",
       "패브릭      0.1137\n",
       "가전·디지털   0.0761\n",
       "조명       0.0564\n",
       "수납·정리    0.0439\n",
       "생활용품     0.0376\n",
       "공구·DIY   0.0334\n",
       "유아·아동    0.0247\n",
       "캠핑·레저    0.0160\n",
       "생필품      0.0117\n",
       "반려동물     0.0108\n",
       "인테리어시공   0.0057\n",
       "렌탈       0.0020\n",
       "식품       0.0012\n",
       "Name: category0, dtype: float64"
      ]
     },
     "execution_count": 157,
     "metadata": {},
     "output_type": "execute_result"
    }
   ],
   "source": [
    "product_si['category0'].value_counts() / product_si.shape[0]"
   ]
  },
  {
   "attachments": {},
   "cell_type": "markdown",
   "metadata": {},
   "source": [
    "`category0` - 가구, 데코/식물, 주방용품, 패브릭 이 많은 비율 차지\n",
    "\n",
    "추천 목적에 따라 제외할 카테고리 정할 필요 있음"
   ]
  },
  {
   "cell_type": "code",
   "execution_count": 158,
   "metadata": {},
   "outputs": [
    {
     "name": "stdout",
     "output_type": "stream",
     "text": [
      "category0 : 가구 (27201개)\n",
      "category1\n",
      "의자          0.2038\n",
      "테이블·식탁·책상   0.2008\n",
      "서랍·수납장      0.1177\n",
      "소파          0.1036\n",
      "거울          0.0731\n",
      "침대          0.0702\n",
      "선반          0.0634\n",
      "진열장·책장      0.0500\n",
      "행거·옷장       0.0451\n",
      "거실장·TV장     0.0297\n",
      "화장대·콘솔      0.0200\n",
      "매트리스·토퍼     0.0183\n",
      "가벽·파티션      0.0043\n",
      "dtype: float64\n",
      "\n",
      "category0 : 주방용품 (20081개)\n",
      "category1\n",
      "컵·잔·텀블러     0.2492\n",
      "그릇·홈세트      0.2269\n",
      "주방잡화        0.1171\n",
      "주방수납·정리     0.0798\n",
      "조리도구·도마     0.0741\n",
      "수저·커트러리     0.0654\n",
      "보관·용기·도시락   0.0558\n",
      "냄비·프라이팬·솥   0.0454\n",
      "커피·티용품      0.0353\n",
      "식기건조대       0.0217\n",
      "칼·커팅기구      0.0195\n",
      "와인·칵테일용품    0.0069\n",
      "베이킹용품       0.0017\n",
      "공간별주방용품     0.0011\n",
      "dtype: float64\n",
      "\n",
      "category0 : 수납·정리 (5662개)\n",
      "category1\n",
      "리빙박스·바구니    0.3204\n",
      "화장대·테이블정리   0.3172\n",
      "후크·수납걸이     0.1183\n",
      "서랍장·트롤리     0.0828\n",
      "옷걸이         0.0581\n",
      "빨래바구니·햄퍼    0.0466\n",
      "현관·신발정리     0.0385\n",
      "옷정리·이불정리    0.0180\n",
      "dtype: float64\n",
      "\n",
      "category0 : 생활용품 (4845개)\n",
      "category1\n",
      "욕실용품        0.5837\n",
      "청소용품        0.1864\n",
      "생활잡화        0.1273\n",
      "수건·타월       0.0638\n",
      "세탁용품        0.0388\n",
      "dtype: float64\n",
      "\n",
      "category0 : 패브릭 (14651개)\n",
      "category1\n",
      "이불·이불솜      0.1765\n",
      "커튼·부자재      0.1605\n",
      "러그·카페트      0.1466\n",
      "쿠션·방석       0.1448\n",
      "주방패브릭       0.0880\n",
      "홈패브릭        0.0679\n",
      "베개·베개커버     0.0658\n",
      "매트          0.0602\n",
      "소파·생활커버     0.0283\n",
      "매트리스커버      0.0207\n",
      "블라인드·롤스크린   0.0204\n",
      "토퍼·패드       0.0202\n",
      "dtype: float64\n",
      "\n",
      "category0 : 가전·디지털 (9804개)\n",
      "category1  \n",
      "주방가전          0.2741\n",
      "계절가전          0.1410\n",
      "음향가전          0.1238\n",
      "냉장고           0.0816\n",
      "생활·건강가전       0.0592\n",
      "컴퓨터·노트북       0.0526\n",
      "TV            0.0461\n",
      "청소기           0.0433\n",
      "세탁기·건조기       0.0411\n",
      "에어컨           0.0348\n",
      "휴대폰           0.0234\n",
      "영상가전          0.0214\n",
      "태블릿PC         0.0127\n",
      "이미용가전         0.0123\n",
      "카메라           0.0112\n",
      "모니터           0.0103\n",
      "게임기·드론        0.0046\n",
      "복합기·프린터·스캐너   0.0043\n",
      "스마트워치·밴드      0.0021\n",
      "dtype: float64\n",
      "\n",
      "category0 : 공구·DIY (4303개)\n",
      "category1\n",
      "수도          0.2003\n",
      "전기          0.1736\n",
      "손잡이·방문·유리   0.1392\n",
      "벽지·시트지      0.1225\n",
      "타일·파벽돌      0.0971\n",
      "바닥재         0.0818\n",
      "페인트·부자재     0.0465\n",
      "가구부속품       0.0383\n",
      "공구          0.0288\n",
      "안전·방범용품     0.0288\n",
      "접착제·보수용품    0.0198\n",
      "목재          0.0181\n",
      "몰딩·걸레받이     0.0051\n",
      "dtype: float64\n",
      "\n",
      "category0 : 데코·식물 (25738개)\n",
      "category1\n",
      "플라워·식물      0.3356\n",
      "홈갤러리        0.1951\n",
      "디퓨저·캔들      0.1294\n",
      "인테리어소품      0.1024\n",
      "데스크·디자인문구   0.0995\n",
      "시계          0.0618\n",
      "크리스마스       0.0319\n",
      "월데코·장식      0.0227\n",
      "파티·완구       0.0134\n",
      "DIY·취미·공예   0.0082\n",
      "dtype: float64\n",
      "\n",
      "category0 : 인테리어시공 (738개)\n",
      "category1\n",
      "주방          0.3130\n",
      "벽지·장판·마루    0.2656\n",
      "중문·도어       0.1748\n",
      "창호·폴딩도어     0.0921\n",
      "욕실          0.0732\n",
      "빌트인수납       0.0569\n",
      "홈케어         0.0244\n",
      "dtype: float64\n",
      "\n",
      "category0 : 조명 (7270개)\n",
      "category1\n",
      "천장등         0.3209\n",
      "단스탠드        0.1671\n",
      "무드등·장식조명    0.1193\n",
      "장스탠드        0.1076\n",
      "벽조명         0.0942\n",
      "LED등        0.0618\n",
      "데스크스탠드      0.0583\n",
      "형광등·조명부속품   0.0336\n",
      "공간별조명       0.0219\n",
      "센서등         0.0154\n",
      "dtype: float64\n",
      "\n",
      "category0 : 캠핑·레저 (2057개)\n",
      "category1\n",
      "캠핑용품        0.8789\n",
      "홈트레이닝       0.1201\n",
      "레저          0.0010\n",
      "dtype: float64\n",
      "\n",
      "category0 : 생필품 (1513개)\n",
      "category1\n",
      "바디케어        0.3391\n",
      "양치용품        0.1408\n",
      "헤어케어        0.1097\n",
      "세탁세제·유연제    0.0998\n",
      "스킨케어        0.0674\n",
      "주방세제        0.0628\n",
      "제습·탈취·방향제   0.0601\n",
      "청소세제·세정제    0.0522\n",
      "화장지·물티슈     0.0502\n",
      "생활선물세트      0.0073\n",
      "면도용품        0.0059\n",
      "살충·방충제      0.0046\n",
      "dtype: float64\n",
      "\n",
      "category0 : 유아·아동 (3182개)\n",
      "category1\n",
      "완구·교구       0.3451\n",
      "수납장·옷장      0.1442\n",
      "의자·소파       0.0965\n",
      "매트·안전용품     0.0911\n",
      "침대          0.0908\n",
      "유아동패브릭      0.0811\n",
      "책상          0.0644\n",
      "스킨케어·목욕용품   0.0273\n",
      "유아·아동식기     0.0173\n",
      "구강·위생용품     0.0145\n",
      "분유·수유용품     0.0072\n",
      "이유식용품       0.0069\n",
      "세탁·세제용품     0.0057\n",
      "기저귀·기저귀용품   0.0035\n",
      "외출용품        0.0031\n",
      "유아패션잡화      0.0013\n",
      "dtype: float64\n",
      "\n",
      "category0 : 반려동물 (1393개)\n",
      "category1\n",
      "강아지         0.5815\n",
      "고양이         0.3877\n",
      "관상어·소동물     0.0309\n",
      "dtype: float64\n",
      "\n",
      "category0 : 식품 (151개)\n",
      "category1\n",
      "생수·음료·커피    0.4570\n",
      "냉동·냉장·간편식   0.1523\n",
      "간식·과자       0.0927\n",
      "면·소스·조미료    0.0927\n",
      "베이커리·떡      0.0927\n",
      "유제품·아이스크림   0.0397\n",
      "과일·정육       0.0331\n",
      "건강식품        0.0132\n",
      "밀키트         0.0132\n",
      "반찬·장류       0.0132\n",
      "dtype: float64\n",
      "\n",
      "category0 : 렌탈 (256개)\n",
      "category1  \n",
      "정수기           0.3359\n",
      "가구·인테리어       0.2188\n",
      "공기청정기         0.1914\n",
      "생활·주방가전       0.1875\n",
      "헬스·뷰티·안마·기타   0.0312\n",
      "가전패키지         0.0273\n",
      "냉장고           0.0039\n",
      "비데            0.0039\n",
      "dtype: float64\n",
      "\n"
     ]
    }
   ],
   "source": [
    "for c in product_si['category0'].unique():\n",
    "    print(f\"category0 : {c} ({(product_si['category0']==c).sum()}개)\")\n",
    "    print(product_si[product_si['category0']==c][['category1']].value_counts()/ product_si[product_si['category0']==c].shape[0])\n",
    "    print()"
   ]
  },
  {
   "cell_type": "code",
   "execution_count": 159,
   "metadata": {},
   "outputs": [
    {
     "data": {
      "text/plain": [
       "Index(['item_id', 'title', 'brand', 'original_price', 'selling_price',\n",
       "       'wish_count', 'share_count', 'scrap_count', 'qa_count', 'review_count',\n",
       "       'review_avg', 'is_sold_out', 'is_selling', 'is_buyable', 'category0',\n",
       "       'category1', 'delivery_fee', 'delivery_fee_free_threshold', 'img_main',\n",
       "       'img_sub_list', 'option_names', 'max_option_price'],\n",
       "      dtype='object')"
      ]
     },
     "execution_count": 159,
     "metadata": {},
     "output_type": "execute_result"
    }
   ],
   "source": [
    "product_si.columns"
   ]
  },
  {
   "cell_type": "code",
   "execution_count": 160,
   "metadata": {},
   "outputs": [
    {
     "data": {
      "text/html": [
       "<div>\n",
       "<style scoped>\n",
       "    .dataframe tbody tr th:only-of-type {\n",
       "        vertical-align: middle;\n",
       "    }\n",
       "\n",
       "    .dataframe tbody tr th {\n",
       "        vertical-align: top;\n",
       "    }\n",
       "\n",
       "    .dataframe thead th {\n",
       "        text-align: right;\n",
       "    }\n",
       "</style>\n",
       "<table border=\"1\" class=\"dataframe\">\n",
       "  <thead>\n",
       "    <tr style=\"text-align: right;\">\n",
       "      <th></th>\n",
       "      <th>item_id</th>\n",
       "      <th>title</th>\n",
       "      <th>brand</th>\n",
       "      <th>original_price</th>\n",
       "      <th>selling_price</th>\n",
       "      <th>wish_count</th>\n",
       "      <th>share_count</th>\n",
       "      <th>scrap_count</th>\n",
       "      <th>qa_count</th>\n",
       "      <th>review_count</th>\n",
       "      <th>...</th>\n",
       "      <th>is_selling</th>\n",
       "      <th>is_buyable</th>\n",
       "      <th>category0</th>\n",
       "      <th>category1</th>\n",
       "      <th>delivery_fee</th>\n",
       "      <th>delivery_fee_free_threshold</th>\n",
       "      <th>img_main</th>\n",
       "      <th>img_sub_list</th>\n",
       "      <th>option_names</th>\n",
       "      <th>max_option_price</th>\n",
       "    </tr>\n",
       "  </thead>\n",
       "  <tbody>\n",
       "    <tr>\n",
       "      <th>0</th>\n",
       "      <td>265527</td>\n",
       "      <td>마르틴 원목 사이드보드 2colors</td>\n",
       "      <td>장미맨숀</td>\n",
       "      <td>938000</td>\n",
       "      <td>469000</td>\n",
       "      <td>9380</td>\n",
       "      <td>517</td>\n",
       "      <td>9380</td>\n",
       "      <td>245</td>\n",
       "      <td>198</td>\n",
       "      <td>...</td>\n",
       "      <td>True</td>\n",
       "      <td>True</td>\n",
       "      <td>가구</td>\n",
       "      <td>거실장·TV장</td>\n",
       "      <td>30000</td>\n",
       "      <td>0</td>\n",
       "      <td>https://image.ohou.se/image/central_crop/bucke...</td>\n",
       "      <td>['https://image.ohou.se/image/central_crop/buc...</td>\n",
       "      <td>['색상:클래식화이트', '색상:램프블랙']</td>\n",
       "      <td>469000</td>\n",
       "    </tr>\n",
       "    <tr>\n",
       "      <th>1</th>\n",
       "      <td>456986</td>\n",
       "      <td>600ml 스텐 우유 스팀피쳐/눈금형</td>\n",
       "      <td>벨라쿠진</td>\n",
       "      <td>19800</td>\n",
       "      <td>9900</td>\n",
       "      <td>1118</td>\n",
       "      <td>31</td>\n",
       "      <td>1118</td>\n",
       "      <td>10</td>\n",
       "      <td>153</td>\n",
       "      <td>...</td>\n",
       "      <td>True</td>\n",
       "      <td>True</td>\n",
       "      <td>주방용품</td>\n",
       "      <td>커피·티용품</td>\n",
       "      <td>3000</td>\n",
       "      <td>10000</td>\n",
       "      <td>https://image.ohou.se/image/central_crop/bucke...</td>\n",
       "      <td>['https://image.ohou.se/image/central_crop/buc...</td>\n",
       "      <td>['선택:600ml 스텐 우유 스팀피쳐/눈금형']</td>\n",
       "      <td>9900</td>\n",
       "    </tr>\n",
       "    <tr>\n",
       "      <th>2</th>\n",
       "      <td>118895</td>\n",
       "      <td>PETALO CHAIR</td>\n",
       "      <td>잭슨카멜레온</td>\n",
       "      <td>0</td>\n",
       "      <td>0</td>\n",
       "      <td>3375</td>\n",
       "      <td>108</td>\n",
       "      <td>3375</td>\n",
       "      <td>0</td>\n",
       "      <td>4</td>\n",
       "      <td>...</td>\n",
       "      <td>False</td>\n",
       "      <td>True</td>\n",
       "      <td>가구</td>\n",
       "      <td>의자</td>\n",
       "      <td>0</td>\n",
       "      <td>0</td>\n",
       "      <td>https://image.ohou.se/image/central_crop/bucke...</td>\n",
       "      <td>[]</td>\n",
       "      <td>[]</td>\n",
       "      <td>0</td>\n",
       "    </tr>\n",
       "    <tr>\n",
       "      <th>3</th>\n",
       "      <td>312929</td>\n",
       "      <td>스틸 접이식 실내화걸이 3단</td>\n",
       "      <td>네이쳐리빙</td>\n",
       "      <td>13000</td>\n",
       "      <td>8900</td>\n",
       "      <td>5458</td>\n",
       "      <td>308</td>\n",
       "      <td>5458</td>\n",
       "      <td>114</td>\n",
       "      <td>4968</td>\n",
       "      <td>...</td>\n",
       "      <td>True</td>\n",
       "      <td>True</td>\n",
       "      <td>수납·정리</td>\n",
       "      <td>현관·신발정리</td>\n",
       "      <td>0</td>\n",
       "      <td>0</td>\n",
       "      <td>https://image.ohou.se/image/central_crop/bucke...</td>\n",
       "      <td>['https://image.ohou.se/image/central_crop/buc...</td>\n",
       "      <td>['색상:화이트', '색상:블랙']</td>\n",
       "      <td>8900</td>\n",
       "    </tr>\n",
       "    <tr>\n",
       "      <th>4</th>\n",
       "      <td>232064</td>\n",
       "      <td>샤워볼 20g, 40g, 60g</td>\n",
       "      <td>소소모소</td>\n",
       "      <td>4500</td>\n",
       "      <td>1800</td>\n",
       "      <td>638</td>\n",
       "      <td>10</td>\n",
       "      <td>638</td>\n",
       "      <td>8</td>\n",
       "      <td>206</td>\n",
       "      <td>...</td>\n",
       "      <td>True</td>\n",
       "      <td>True</td>\n",
       "      <td>생활용품</td>\n",
       "      <td>욕실용품</td>\n",
       "      <td>3000</td>\n",
       "      <td>50000</td>\n",
       "      <td>https://image.ohou.se/image/central_crop/bucke...</td>\n",
       "      <td>['https://image.ohou.se/image/central_crop/buc...</td>\n",
       "      <td>['중량:미니샤워볼 20g', '중량:베이직샤워볼 40g', '중량:빅샤워볼 60g']</td>\n",
       "      <td>2800</td>\n",
       "    </tr>\n",
       "    <tr>\n",
       "      <th>...</th>\n",
       "      <td>...</td>\n",
       "      <td>...</td>\n",
       "      <td>...</td>\n",
       "      <td>...</td>\n",
       "      <td>...</td>\n",
       "      <td>...</td>\n",
       "      <td>...</td>\n",
       "      <td>...</td>\n",
       "      <td>...</td>\n",
       "      <td>...</td>\n",
       "      <td>...</td>\n",
       "      <td>...</td>\n",
       "      <td>...</td>\n",
       "      <td>...</td>\n",
       "      <td>...</td>\n",
       "      <td>...</td>\n",
       "      <td>...</td>\n",
       "      <td>...</td>\n",
       "      <td>...</td>\n",
       "      <td>...</td>\n",
       "      <td>...</td>\n",
       "    </tr>\n",
       "    <tr>\n",
       "      <th>128840</th>\n",
       "      <td>2257</td>\n",
       "      <td>오스포드 커트지 라인팬더</td>\n",
       "      <td>천가게</td>\n",
       "      <td>0</td>\n",
       "      <td>4800</td>\n",
       "      <td>23</td>\n",
       "      <td>5</td>\n",
       "      <td>23</td>\n",
       "      <td>0</td>\n",
       "      <td>0</td>\n",
       "      <td>...</td>\n",
       "      <td>False</td>\n",
       "      <td>True</td>\n",
       "      <td>패브릭</td>\n",
       "      <td>홈패브릭</td>\n",
       "      <td>0</td>\n",
       "      <td>0</td>\n",
       "      <td>https://image.ohou.se/image/central_crop/bucke...</td>\n",
       "      <td>[]</td>\n",
       "      <td>[]</td>\n",
       "      <td>4800</td>\n",
       "    </tr>\n",
       "    <tr>\n",
       "      <th>128841</th>\n",
       "      <td>2258</td>\n",
       "      <td>고밀도해지 꽃핑크 34254</td>\n",
       "      <td>원단천국</td>\n",
       "      <td>0</td>\n",
       "      <td>4500</td>\n",
       "      <td>47</td>\n",
       "      <td>3</td>\n",
       "      <td>47</td>\n",
       "      <td>0</td>\n",
       "      <td>0</td>\n",
       "      <td>...</td>\n",
       "      <td>False</td>\n",
       "      <td>True</td>\n",
       "      <td>패브릭</td>\n",
       "      <td>홈패브릭</td>\n",
       "      <td>0</td>\n",
       "      <td>0</td>\n",
       "      <td>https://image.ohou.se/image/central_crop/bucke...</td>\n",
       "      <td>[]</td>\n",
       "      <td>[]</td>\n",
       "      <td>4500</td>\n",
       "    </tr>\n",
       "    <tr>\n",
       "      <th>128842</th>\n",
       "      <td>2263</td>\n",
       "      <td>[단종]CHAIR 01-1</td>\n",
       "      <td>라곰</td>\n",
       "      <td>0</td>\n",
       "      <td>160000</td>\n",
       "      <td>44</td>\n",
       "      <td>1</td>\n",
       "      <td>44</td>\n",
       "      <td>0</td>\n",
       "      <td>0</td>\n",
       "      <td>...</td>\n",
       "      <td>False</td>\n",
       "      <td>True</td>\n",
       "      <td>가구</td>\n",
       "      <td>의자</td>\n",
       "      <td>0</td>\n",
       "      <td>0</td>\n",
       "      <td>https://image.ohou.se/image/central_crop/bucke...</td>\n",
       "      <td>[]</td>\n",
       "      <td>[]</td>\n",
       "      <td>160000</td>\n",
       "    </tr>\n",
       "    <tr>\n",
       "      <th>128843</th>\n",
       "      <td>2262</td>\n",
       "      <td>알파벳 우드 이니셜 내츄럴</td>\n",
       "      <td>진바스</td>\n",
       "      <td>0</td>\n",
       "      <td>10000</td>\n",
       "      <td>29</td>\n",
       "      <td>4</td>\n",
       "      <td>29</td>\n",
       "      <td>0</td>\n",
       "      <td>0</td>\n",
       "      <td>...</td>\n",
       "      <td>False</td>\n",
       "      <td>True</td>\n",
       "      <td>데코·식물</td>\n",
       "      <td>인테리어소품</td>\n",
       "      <td>0</td>\n",
       "      <td>0</td>\n",
       "      <td>https://image.ohou.se/image/central_crop/bucke...</td>\n",
       "      <td>[]</td>\n",
       "      <td>[]</td>\n",
       "      <td>10000</td>\n",
       "    </tr>\n",
       "    <tr>\n",
       "      <th>128844</th>\n",
       "      <td>413</td>\n",
       "      <td>로맨틱 와이드경</td>\n",
       "      <td>디자인벤처스</td>\n",
       "      <td>0</td>\n",
       "      <td>298000</td>\n",
       "      <td>11</td>\n",
       "      <td>1</td>\n",
       "      <td>11</td>\n",
       "      <td>0</td>\n",
       "      <td>1</td>\n",
       "      <td>...</td>\n",
       "      <td>False</td>\n",
       "      <td>True</td>\n",
       "      <td>가구</td>\n",
       "      <td>거울</td>\n",
       "      <td>0</td>\n",
       "      <td>0</td>\n",
       "      <td>https://image.ohou.se/image/central_crop/bucke...</td>\n",
       "      <td>[]</td>\n",
       "      <td>[]</td>\n",
       "      <td>298000</td>\n",
       "    </tr>\n",
       "  </tbody>\n",
       "</table>\n",
       "<p>128845 rows × 22 columns</p>\n",
       "</div>"
      ],
      "text/plain": [
       "        item_id                 title   brand  original_price  selling_price  \\\n",
       "0        265527  마르틴 원목 사이드보드 2colors    장미맨숀          938000         469000   \n",
       "1        456986  600ml 스텐 우유 스팀피쳐/눈금형    벨라쿠진           19800           9900   \n",
       "2        118895          PETALO CHAIR  잭슨카멜레온               0              0   \n",
       "3        312929       스틸 접이식 실내화걸이 3단   네이쳐리빙           13000           8900   \n",
       "4        232064     샤워볼 20g, 40g, 60g    소소모소            4500           1800   \n",
       "...         ...                   ...     ...             ...            ...   \n",
       "128840     2257         오스포드 커트지 라인팬더     천가게               0           4800   \n",
       "128841     2258       고밀도해지 꽃핑크 34254    원단천국               0           4500   \n",
       "128842     2263        [단종]CHAIR 01-1      라곰               0         160000   \n",
       "128843     2262        알파벳 우드 이니셜 내츄럴     진바스               0          10000   \n",
       "128844      413              로맨틱 와이드경  디자인벤처스               0         298000   \n",
       "\n",
       "        wish_count  share_count  scrap_count  qa_count  review_count  ...  \\\n",
       "0             9380          517         9380       245           198  ...   \n",
       "1             1118           31         1118        10           153  ...   \n",
       "2             3375          108         3375         0             4  ...   \n",
       "3             5458          308         5458       114          4968  ...   \n",
       "4              638           10          638         8           206  ...   \n",
       "...            ...          ...          ...       ...           ...  ...   \n",
       "128840          23            5           23         0             0  ...   \n",
       "128841          47            3           47         0             0  ...   \n",
       "128842          44            1           44         0             0  ...   \n",
       "128843          29            4           29         0             0  ...   \n",
       "128844          11            1           11         0             1  ...   \n",
       "\n",
       "        is_selling  is_buyable  category0  category1 delivery_fee  \\\n",
       "0             True        True         가구    거실장·TV장        30000   \n",
       "1             True        True       주방용품     커피·티용품         3000   \n",
       "2            False        True         가구         의자            0   \n",
       "3             True        True      수납·정리    현관·신발정리            0   \n",
       "4             True        True       생활용품       욕실용품         3000   \n",
       "...            ...         ...        ...        ...          ...   \n",
       "128840       False        True        패브릭       홈패브릭            0   \n",
       "128841       False        True        패브릭       홈패브릭            0   \n",
       "128842       False        True         가구         의자            0   \n",
       "128843       False        True      데코·식물     인테리어소품            0   \n",
       "128844       False        True         가구         거울            0   \n",
       "\n",
       "       delivery_fee_free_threshold  \\\n",
       "0                                0   \n",
       "1                            10000   \n",
       "2                                0   \n",
       "3                                0   \n",
       "4                            50000   \n",
       "...                            ...   \n",
       "128840                           0   \n",
       "128841                           0   \n",
       "128842                           0   \n",
       "128843                           0   \n",
       "128844                           0   \n",
       "\n",
       "                                                 img_main  \\\n",
       "0       https://image.ohou.se/image/central_crop/bucke...   \n",
       "1       https://image.ohou.se/image/central_crop/bucke...   \n",
       "2       https://image.ohou.se/image/central_crop/bucke...   \n",
       "3       https://image.ohou.se/image/central_crop/bucke...   \n",
       "4       https://image.ohou.se/image/central_crop/bucke...   \n",
       "...                                                   ...   \n",
       "128840  https://image.ohou.se/image/central_crop/bucke...   \n",
       "128841  https://image.ohou.se/image/central_crop/bucke...   \n",
       "128842  https://image.ohou.se/image/central_crop/bucke...   \n",
       "128843  https://image.ohou.se/image/central_crop/bucke...   \n",
       "128844  https://image.ohou.se/image/central_crop/bucke...   \n",
       "\n",
       "                                             img_sub_list  \\\n",
       "0       ['https://image.ohou.se/image/central_crop/buc...   \n",
       "1       ['https://image.ohou.se/image/central_crop/buc...   \n",
       "2                                                      []   \n",
       "3       ['https://image.ohou.se/image/central_crop/buc...   \n",
       "4       ['https://image.ohou.se/image/central_crop/buc...   \n",
       "...                                                   ...   \n",
       "128840                                                 []   \n",
       "128841                                                 []   \n",
       "128842                                                 []   \n",
       "128843                                                 []   \n",
       "128844                                                 []   \n",
       "\n",
       "                                            option_names max_option_price  \n",
       "0                               ['색상:클래식화이트', '색상:램프블랙']           469000  \n",
       "1                            ['선택:600ml 스텐 우유 스팀피쳐/눈금형']             9900  \n",
       "2                                                     []                0  \n",
       "3                                    ['색상:화이트', '색상:블랙']             8900  \n",
       "4       ['중량:미니샤워볼 20g', '중량:베이직샤워볼 40g', '중량:빅샤워볼 60g']             2800  \n",
       "...                                                  ...              ...  \n",
       "128840                                                []             4800  \n",
       "128841                                                []             4500  \n",
       "128842                                                []           160000  \n",
       "128843                                                []            10000  \n",
       "128844                                                []           298000  \n",
       "\n",
       "[128845 rows x 22 columns]"
      ]
     },
     "execution_count": 160,
     "metadata": {},
     "output_type": "execute_result"
    }
   ],
   "source": [
    "product_si"
   ]
  },
  {
   "attachments": {},
   "cell_type": "markdown",
   "metadata": {},
   "source": [
    "product_si - is_ 컬럼 분석"
   ]
  },
  {
   "cell_type": "code",
   "execution_count": 161,
   "metadata": {},
   "outputs": [
    {
     "data": {
      "text/plain": [
       "True     128781\n",
       "False        64\n",
       "Name: is_buyable, dtype: int64"
      ]
     },
     "execution_count": 161,
     "metadata": {},
     "output_type": "execute_result"
    }
   ],
   "source": [
    "product_si['is_buyable'].value_counts()"
   ]
  },
  {
   "cell_type": "code",
   "execution_count": 162,
   "metadata": {},
   "outputs": [
    {
     "data": {
      "text/plain": [
       "True     71711\n",
       "False    57134\n",
       "Name: is_selling, dtype: int64"
      ]
     },
     "execution_count": 162,
     "metadata": {},
     "output_type": "execute_result"
    }
   ],
   "source": [
    "product_si['is_selling'].value_counts()"
   ]
  },
  {
   "cell_type": "code",
   "execution_count": 163,
   "metadata": {},
   "outputs": [
    {
     "data": {
      "text/plain": [
       "False    111899\n",
       "True      16946\n",
       "Name: is_sold_out, dtype: int64"
      ]
     },
     "execution_count": 163,
     "metadata": {},
     "output_type": "execute_result"
    }
   ],
   "source": [
    "product_si['is_sold_out'].value_counts()"
   ]
  },
  {
   "cell_type": "code",
   "execution_count": 164,
   "metadata": {},
   "outputs": [
    {
     "data": {
      "text/plain": [
       "is_buyable  is_selling  is_sold_out\n",
       "True        False       False          57070\n",
       "            True        False          54765\n",
       "                        True           16946\n",
       "False       False       False             64\n",
       "dtype: int64"
      ]
     },
     "execution_count": 164,
     "metadata": {},
     "output_type": "execute_result"
    }
   ],
   "source": [
    "product_si[['is_buyable', 'is_selling', 'is_sold_out']].value_counts()\n",
    "# TFF -> 미입점\n",
    "# TTF -> 정상\n",
    "# TTT -> 품절\n",
    "# FFF -> 단종\n",
    "# 정상, 품절만 사용(?)"
   ]
  },
  {
   "attachments": {},
   "cell_type": "markdown",
   "metadata": {},
   "source": [
    "TFF -> 미입점\n",
    "\n",
    "TTF -> 정상\n",
    "\n",
    "TTT -> 품절\n",
    "\n",
    "FFF -> 단종\n",
    "\n",
    "정상, 품절 or 정상만 사용(?)"
   ]
  },
  {
   "cell_type": "code",
   "execution_count": 165,
   "metadata": {},
   "outputs": [
    {
     "data": {
      "text/html": [
       "<div>\n",
       "<style scoped>\n",
       "    .dataframe tbody tr th:only-of-type {\n",
       "        vertical-align: middle;\n",
       "    }\n",
       "\n",
       "    .dataframe tbody tr th {\n",
       "        vertical-align: top;\n",
       "    }\n",
       "\n",
       "    .dataframe thead th {\n",
       "        text-align: right;\n",
       "    }\n",
       "</style>\n",
       "<table border=\"1\" class=\"dataframe\">\n",
       "  <thead>\n",
       "    <tr style=\"text-align: right;\">\n",
       "      <th></th>\n",
       "      <th>item_id</th>\n",
       "      <th>title</th>\n",
       "      <th>brand</th>\n",
       "      <th>original_price</th>\n",
       "      <th>selling_price</th>\n",
       "      <th>wish_count</th>\n",
       "      <th>share_count</th>\n",
       "      <th>scrap_count</th>\n",
       "      <th>qa_count</th>\n",
       "      <th>review_count</th>\n",
       "      <th>...</th>\n",
       "      <th>is_selling</th>\n",
       "      <th>is_buyable</th>\n",
       "      <th>category0</th>\n",
       "      <th>category1</th>\n",
       "      <th>delivery_fee</th>\n",
       "      <th>delivery_fee_free_threshold</th>\n",
       "      <th>img_main</th>\n",
       "      <th>img_sub_list</th>\n",
       "      <th>option_names</th>\n",
       "      <th>max_option_price</th>\n",
       "    </tr>\n",
       "  </thead>\n",
       "  <tbody>\n",
       "    <tr>\n",
       "      <th>82241</th>\n",
       "      <td>245563</td>\n",
       "      <td>살면서 시공하는 두현폴딩 무마감 커튼월 폴딩도어 / 아파트 30평후반~50평 이상</td>\n",
       "      <td>두현창호</td>\n",
       "      <td>2400000</td>\n",
       "      <td>2400000</td>\n",
       "      <td>98</td>\n",
       "      <td>15</td>\n",
       "      <td>98</td>\n",
       "      <td>0</td>\n",
       "      <td>0</td>\n",
       "      <td>...</td>\n",
       "      <td>False</td>\n",
       "      <td>False</td>\n",
       "      <td>인테리어시공</td>\n",
       "      <td>창호·폴딩도어</td>\n",
       "      <td>0</td>\n",
       "      <td>0</td>\n",
       "      <td>https://image.ohou.se/image/central_crop/bucke...</td>\n",
       "      <td>['https://image.ohou.se/image/central_crop/buc...</td>\n",
       "      <td>['사이즈:30평후반~40평대 3600~4200 (6짝)', '사이즈:30평후반~4...</td>\n",
       "      <td>3200000</td>\n",
       "    </tr>\n",
       "    <tr>\n",
       "      <th>82756</th>\n",
       "      <td>159312</td>\n",
       "      <td>폴딩도어 (도어6개 기준)</td>\n",
       "      <td>한샘</td>\n",
       "      <td>2736000</td>\n",
       "      <td>2736000</td>\n",
       "      <td>564</td>\n",
       "      <td>76</td>\n",
       "      <td>564</td>\n",
       "      <td>1</td>\n",
       "      <td>0</td>\n",
       "      <td>...</td>\n",
       "      <td>False</td>\n",
       "      <td>False</td>\n",
       "      <td>인테리어시공</td>\n",
       "      <td>창호·폴딩도어</td>\n",
       "      <td>0</td>\n",
       "      <td>0</td>\n",
       "      <td>https://image.ohou.se/image/central_crop/bucke...</td>\n",
       "      <td>['https://image.ohou.se/image/central_crop/buc...</td>\n",
       "      <td>['선택:[한샘도어] 폴딩도어']</td>\n",
       "      <td>2736000</td>\n",
       "    </tr>\n",
       "    <tr>\n",
       "      <th>82757</th>\n",
       "      <td>158853</td>\n",
       "      <td>[단독혜택][주방시공]2400G 마노 웜그레이</td>\n",
       "      <td>리바트</td>\n",
       "      <td>2557100</td>\n",
       "      <td>1790000</td>\n",
       "      <td>188</td>\n",
       "      <td>42</td>\n",
       "      <td>188</td>\n",
       "      <td>1</td>\n",
       "      <td>2</td>\n",
       "      <td>...</td>\n",
       "      <td>False</td>\n",
       "      <td>False</td>\n",
       "      <td>인테리어시공</td>\n",
       "      <td>주방</td>\n",
       "      <td>0</td>\n",
       "      <td>0</td>\n",
       "      <td>https://image.ohou.se/image/central_crop/bucke...</td>\n",
       "      <td>['https://image.ohou.se/image/central_crop/buc...</td>\n",
       "      <td>['구성옵션:기본형/ㅡ자/1.5m/상하부', '구성옵션:기본형/ㅡ자/1.8m/상하부...</td>\n",
       "      <td>3760000</td>\n",
       "    </tr>\n",
       "    <tr>\n",
       "      <th>82943</th>\n",
       "      <td>159546</td>\n",
       "      <td>[주방시공상담] 유로8000 화이트</td>\n",
       "      <td>한샘</td>\n",
       "      <td>2896570</td>\n",
       "      <td>2896570</td>\n",
       "      <td>165</td>\n",
       "      <td>10</td>\n",
       "      <td>165</td>\n",
       "      <td>0</td>\n",
       "      <td>0</td>\n",
       "      <td>...</td>\n",
       "      <td>False</td>\n",
       "      <td>False</td>\n",
       "      <td>인테리어시공</td>\n",
       "      <td>주방</td>\n",
       "      <td>0</td>\n",
       "      <td>0</td>\n",
       "      <td>https://image.ohou.se/image/central_crop/bucke...</td>\n",
       "      <td>['https://image.ohou.se/image/central_crop/buc...</td>\n",
       "      <td>['선택:ㅡ자형 / 2.4m', '선택:ㅡ자형 /  3m', '선택:ㅡ자형 /  3...</td>\n",
       "      <td>5831790</td>\n",
       "    </tr>\n",
       "    <tr>\n",
       "      <th>83846</th>\n",
       "      <td>159563</td>\n",
       "      <td>[주방시공상담] 키친바흐7 602 스모크드오크 [=자형 6.3m 기준]</td>\n",
       "      <td>한샘</td>\n",
       "      <td>38545000</td>\n",
       "      <td>38545000</td>\n",
       "      <td>83</td>\n",
       "      <td>11</td>\n",
       "      <td>83</td>\n",
       "      <td>0</td>\n",
       "      <td>0</td>\n",
       "      <td>...</td>\n",
       "      <td>False</td>\n",
       "      <td>False</td>\n",
       "      <td>인테리어시공</td>\n",
       "      <td>주방</td>\n",
       "      <td>0</td>\n",
       "      <td>0</td>\n",
       "      <td>https://image.ohou.se/image/central_crop/bucke...</td>\n",
       "      <td>['https://image.ohou.se/image/central_crop/buc...</td>\n",
       "      <td>['선택:베이직 플랜 [=자형 6.3m 기준]', '선택:대표 플랜 [=자형 7.8...</td>\n",
       "      <td>55709000</td>\n",
       "    </tr>\n",
       "    <tr>\n",
       "      <th>...</th>\n",
       "      <td>...</td>\n",
       "      <td>...</td>\n",
       "      <td>...</td>\n",
       "      <td>...</td>\n",
       "      <td>...</td>\n",
       "      <td>...</td>\n",
       "      <td>...</td>\n",
       "      <td>...</td>\n",
       "      <td>...</td>\n",
       "      <td>...</td>\n",
       "      <td>...</td>\n",
       "      <td>...</td>\n",
       "      <td>...</td>\n",
       "      <td>...</td>\n",
       "      <td>...</td>\n",
       "      <td>...</td>\n",
       "      <td>...</td>\n",
       "      <td>...</td>\n",
       "      <td>...</td>\n",
       "      <td>...</td>\n",
       "      <td>...</td>\n",
       "    </tr>\n",
       "    <tr>\n",
       "      <th>113677</th>\n",
       "      <td>159329</td>\n",
       "      <td>한샘 원목마루 바흐700</td>\n",
       "      <td>한샘</td>\n",
       "      <td>281800</td>\n",
       "      <td>281800</td>\n",
       "      <td>146</td>\n",
       "      <td>20</td>\n",
       "      <td>146</td>\n",
       "      <td>0</td>\n",
       "      <td>0</td>\n",
       "      <td>...</td>\n",
       "      <td>False</td>\n",
       "      <td>False</td>\n",
       "      <td>인테리어시공</td>\n",
       "      <td>벽지·장판·마루</td>\n",
       "      <td>0</td>\n",
       "      <td>0</td>\n",
       "      <td>https://image.ohou.se/image/central_crop/bucke...</td>\n",
       "      <td>['https://image.ohou.se/image/central_crop/buc...</td>\n",
       "      <td>['선택:[한샘마루] 한샘 원목마루 바흐700']</td>\n",
       "      <td>281800</td>\n",
       "    </tr>\n",
       "    <tr>\n",
       "      <th>113844</th>\n",
       "      <td>159305</td>\n",
       "      <td>터닝도어</td>\n",
       "      <td>한샘</td>\n",
       "      <td>934560</td>\n",
       "      <td>934560</td>\n",
       "      <td>284</td>\n",
       "      <td>32</td>\n",
       "      <td>284</td>\n",
       "      <td>0</td>\n",
       "      <td>2</td>\n",
       "      <td>...</td>\n",
       "      <td>False</td>\n",
       "      <td>False</td>\n",
       "      <td>인테리어시공</td>\n",
       "      <td>중문·도어</td>\n",
       "      <td>0</td>\n",
       "      <td>0</td>\n",
       "      <td>https://image.ohou.se/image/central_crop/bucke...</td>\n",
       "      <td>['https://image.ohou.se/image/central_crop/buc...</td>\n",
       "      <td>['선택:터닝도어 * 950 X 22/00 사이즈 (22T 아쿠아+투명유리 기준)']</td>\n",
       "      <td>934560</td>\n",
       "    </tr>\n",
       "    <tr>\n",
       "      <th>116608</th>\n",
       "      <td>159332</td>\n",
       "      <td>한샘 강마루</td>\n",
       "      <td>한샘</td>\n",
       "      <td>153000</td>\n",
       "      <td>153000</td>\n",
       "      <td>847</td>\n",
       "      <td>81</td>\n",
       "      <td>847</td>\n",
       "      <td>1</td>\n",
       "      <td>0</td>\n",
       "      <td>...</td>\n",
       "      <td>False</td>\n",
       "      <td>False</td>\n",
       "      <td>인테리어시공</td>\n",
       "      <td>벽지·장판·마루</td>\n",
       "      <td>0</td>\n",
       "      <td>0</td>\n",
       "      <td>https://image.ohou.se/image/central_crop/bucke...</td>\n",
       "      <td>['https://image.ohou.se/image/central_crop/buc...</td>\n",
       "      <td>['선택:한샘 강마루 (1평 기준)']</td>\n",
       "      <td>153000</td>\n",
       "    </tr>\n",
       "    <tr>\n",
       "      <th>118168</th>\n",
       "      <td>158825</td>\n",
       "      <td>[단독혜택][주방시공] 2500G 릴리</td>\n",
       "      <td>리바트</td>\n",
       "      <td>2365700</td>\n",
       "      <td>1656000</td>\n",
       "      <td>748</td>\n",
       "      <td>133</td>\n",
       "      <td>748</td>\n",
       "      <td>10</td>\n",
       "      <td>12</td>\n",
       "      <td>...</td>\n",
       "      <td>False</td>\n",
       "      <td>False</td>\n",
       "      <td>인테리어시공</td>\n",
       "      <td>주방</td>\n",
       "      <td>0</td>\n",
       "      <td>0</td>\n",
       "      <td>https://image.ohou.se/image/central_crop/bucke...</td>\n",
       "      <td>['https://image.ohou.se/image/central_crop/buc...</td>\n",
       "      <td>['사이즈:01. ㅡ자1.5m (기본형)', '사이즈:02. ㅡ자1.8m (기본형)...</td>\n",
       "      <td>3485000</td>\n",
       "    </tr>\n",
       "    <tr>\n",
       "      <th>119399</th>\n",
       "      <td>174070</td>\n",
       "      <td>[단독혜택] 3연동 중문 3 Style</td>\n",
       "      <td>리바트</td>\n",
       "      <td>1378500</td>\n",
       "      <td>896000</td>\n",
       "      <td>2458</td>\n",
       "      <td>290</td>\n",
       "      <td>2458</td>\n",
       "      <td>12</td>\n",
       "      <td>14</td>\n",
       "      <td>...</td>\n",
       "      <td>False</td>\n",
       "      <td>False</td>\n",
       "      <td>인테리어시공</td>\n",
       "      <td>중문·도어</td>\n",
       "      <td>0</td>\n",
       "      <td>0</td>\n",
       "      <td>https://image.ohou.se/image/central_crop/bucke...</td>\n",
       "      <td>[]</td>\n",
       "      <td>['스타일:모던게이트 / 사이즈:사이즈를 잘 모르겠어요.', '스타일:모던게이트 /...</td>\n",
       "      <td>1904000</td>\n",
       "    </tr>\n",
       "  </tbody>\n",
       "</table>\n",
       "<p>64 rows × 22 columns</p>\n",
       "</div>"
      ],
      "text/plain": [
       "        item_id                                          title brand  \\\n",
       "82241    245563  살면서 시공하는 두현폴딩 무마감 커튼월 폴딩도어 / 아파트 30평후반~50평 이상  두현창호   \n",
       "82756    159312                                 폴딩도어 (도어6개 기준)    한샘   \n",
       "82757    158853                      [단독혜택][주방시공]2400G 마노 웜그레이   리바트   \n",
       "82943    159546                            [주방시공상담] 유로8000 화이트    한샘   \n",
       "83846    159563        [주방시공상담] 키친바흐7 602 스모크드오크 [=자형 6.3m 기준]    한샘   \n",
       "...         ...                                            ...   ...   \n",
       "113677   159329                                  한샘 원목마루 바흐700    한샘   \n",
       "113844   159305                                           터닝도어    한샘   \n",
       "116608   159332                                         한샘 강마루    한샘   \n",
       "118168   158825                          [단독혜택][주방시공] 2500G 릴리   리바트   \n",
       "119399   174070                          [단독혜택] 3연동 중문 3 Style   리바트   \n",
       "\n",
       "        original_price  selling_price  wish_count  share_count  scrap_count  \\\n",
       "82241          2400000        2400000          98           15           98   \n",
       "82756          2736000        2736000         564           76          564   \n",
       "82757          2557100        1790000         188           42          188   \n",
       "82943          2896570        2896570         165           10          165   \n",
       "83846         38545000       38545000          83           11           83   \n",
       "...                ...            ...         ...          ...          ...   \n",
       "113677          281800         281800         146           20          146   \n",
       "113844          934560         934560         284           32          284   \n",
       "116608          153000         153000         847           81          847   \n",
       "118168         2365700        1656000         748          133          748   \n",
       "119399         1378500         896000        2458          290         2458   \n",
       "\n",
       "        qa_count  review_count  ...  is_selling  is_buyable  category0  \\\n",
       "82241          0             0  ...       False       False     인테리어시공   \n",
       "82756          1             0  ...       False       False     인테리어시공   \n",
       "82757          1             2  ...       False       False     인테리어시공   \n",
       "82943          0             0  ...       False       False     인테리어시공   \n",
       "83846          0             0  ...       False       False     인테리어시공   \n",
       "...          ...           ...  ...         ...         ...        ...   \n",
       "113677         0             0  ...       False       False     인테리어시공   \n",
       "113844         0             2  ...       False       False     인테리어시공   \n",
       "116608         1             0  ...       False       False     인테리어시공   \n",
       "118168        10            12  ...       False       False     인테리어시공   \n",
       "119399        12            14  ...       False       False     인테리어시공   \n",
       "\n",
       "        category1 delivery_fee delivery_fee_free_threshold  \\\n",
       "82241     창호·폴딩도어            0                           0   \n",
       "82756     창호·폴딩도어            0                           0   \n",
       "82757          주방            0                           0   \n",
       "82943          주방            0                           0   \n",
       "83846          주방            0                           0   \n",
       "...           ...          ...                         ...   \n",
       "113677   벽지·장판·마루            0                           0   \n",
       "113844      중문·도어            0                           0   \n",
       "116608   벽지·장판·마루            0                           0   \n",
       "118168         주방            0                           0   \n",
       "119399      중문·도어            0                           0   \n",
       "\n",
       "                                                 img_main  \\\n",
       "82241   https://image.ohou.se/image/central_crop/bucke...   \n",
       "82756   https://image.ohou.se/image/central_crop/bucke...   \n",
       "82757   https://image.ohou.se/image/central_crop/bucke...   \n",
       "82943   https://image.ohou.se/image/central_crop/bucke...   \n",
       "83846   https://image.ohou.se/image/central_crop/bucke...   \n",
       "...                                                   ...   \n",
       "113677  https://image.ohou.se/image/central_crop/bucke...   \n",
       "113844  https://image.ohou.se/image/central_crop/bucke...   \n",
       "116608  https://image.ohou.se/image/central_crop/bucke...   \n",
       "118168  https://image.ohou.se/image/central_crop/bucke...   \n",
       "119399  https://image.ohou.se/image/central_crop/bucke...   \n",
       "\n",
       "                                             img_sub_list  \\\n",
       "82241   ['https://image.ohou.se/image/central_crop/buc...   \n",
       "82756   ['https://image.ohou.se/image/central_crop/buc...   \n",
       "82757   ['https://image.ohou.se/image/central_crop/buc...   \n",
       "82943   ['https://image.ohou.se/image/central_crop/buc...   \n",
       "83846   ['https://image.ohou.se/image/central_crop/buc...   \n",
       "...                                                   ...   \n",
       "113677  ['https://image.ohou.se/image/central_crop/buc...   \n",
       "113844  ['https://image.ohou.se/image/central_crop/buc...   \n",
       "116608  ['https://image.ohou.se/image/central_crop/buc...   \n",
       "118168  ['https://image.ohou.se/image/central_crop/buc...   \n",
       "119399                                                 []   \n",
       "\n",
       "                                             option_names max_option_price  \n",
       "82241   ['사이즈:30평후반~40평대 3600~4200 (6짝)', '사이즈:30평후반~4...          3200000  \n",
       "82756                                  ['선택:[한샘도어] 폴딩도어']          2736000  \n",
       "82757   ['구성옵션:기본형/ㅡ자/1.5m/상하부', '구성옵션:기본형/ㅡ자/1.8m/상하부...          3760000  \n",
       "82943   ['선택:ㅡ자형 / 2.4m', '선택:ㅡ자형 /  3m', '선택:ㅡ자형 /  3...          5831790  \n",
       "83846   ['선택:베이직 플랜 [=자형 6.3m 기준]', '선택:대표 플랜 [=자형 7.8...         55709000  \n",
       "...                                                   ...              ...  \n",
       "113677                        ['선택:[한샘마루] 한샘 원목마루 바흐700']           281800  \n",
       "113844    ['선택:터닝도어 * 950 X 22/00 사이즈 (22T 아쿠아+투명유리 기준)']           934560  \n",
       "116608                              ['선택:한샘 강마루 (1평 기준)']           153000  \n",
       "118168  ['사이즈:01. ㅡ자1.5m (기본형)', '사이즈:02. ㅡ자1.8m (기본형)...          3485000  \n",
       "119399  ['스타일:모던게이트 / 사이즈:사이즈를 잘 모르겠어요.', '스타일:모던게이트 /...          1904000  \n",
       "\n",
       "[64 rows x 22 columns]"
      ]
     },
     "execution_count": 165,
     "metadata": {},
     "output_type": "execute_result"
    }
   ],
   "source": [
    "product_si[(~product_si['is_buyable']) & (~product_si['is_selling']) & (~product_si['is_sold_out'])]"
   ]
  },
  {
   "attachments": {},
   "cell_type": "markdown",
   "metadata": {},
   "source": [
    "# review 데이터 어떻게 전처리 해야할까?\n",
    "- 오래된 리뷰 제거?\n",
    "    - 상품 별 마지막 리뷰 날짜 기준으로 상품 제거?\n",
    "- 판매 중인 데이터만?\n",
    "    - 판매중 + 품절 상품으로,,, (+ 재입고 알람)\n",
    "    - 판매중인 데이터와 판매중이지 않은 데이터 나눠서 모델링\n",
    "- user_id, item_id 중복 데이터 제거\n",
    "- 카테고리 선택 후 나머지 제거\n",
    "- 리뷰를 적게 남긴 유저 제거?\n",
    "- 리뷰가 적은 아이템 제거?\n"
   ]
  },
  {
   "attachments": {},
   "cell_type": "markdown",
   "metadata": {},
   "source": [
    "## 판매중 / 판매중 or 품절 아이템으로 병합해 보기"
   ]
  },
  {
   "cell_type": "code",
   "execution_count": 166,
   "metadata": {},
   "outputs": [
    {
     "data": {
      "text/plain": [
       "(71711, 22)"
      ]
     },
     "execution_count": 166,
     "metadata": {},
     "output_type": "execute_result"
    }
   ],
   "source": [
    "product_si[(product_si['is_buyable']) & (product_si['is_selling'])].shape # 71711 rows × 22 columns"
   ]
  },
  {
   "attachments": {},
   "cell_type": "markdown",
   "metadata": {},
   "source": [
    "판매중 or 품절 아이템 수는 71711개"
   ]
  },
  {
   "cell_type": "code",
   "execution_count": 167,
   "metadata": {},
   "outputs": [
    {
     "data": {
      "text/plain": [
       "(54765, 22)"
      ]
     },
     "execution_count": 167,
     "metadata": {},
     "output_type": "execute_result"
    }
   ],
   "source": [
    "product_si[(product_si['is_buyable']) & (product_si['is_selling']) & (~product_si['is_sold_out'])].shape # 54765 rows × 22 columns"
   ]
  },
  {
   "cell_type": "markdown",
   "metadata": {},
   "source": [
    "판매중인 아이템은 54765개"
   ]
  },
  {
   "cell_type": "code",
   "execution_count": 168,
   "metadata": {},
   "outputs": [],
   "source": [
    "review_norm_soldout = review_1234.merge(product_si[(product_si['is_buyable']) & (product_si['is_selling'])], how='inner', on='item_id')"
   ]
  },
  {
   "cell_type": "code",
   "execution_count": 169,
   "metadata": {},
   "outputs": [],
   "source": [
    "review_norm = review_1234.merge(product_si[(product_si['is_buyable']) & (product_si['is_selling']) & (~product_si['is_sold_out'])], how='inner', on='item_id')\n"
   ]
  },
  {
   "cell_type": "code",
   "execution_count": 170,
   "metadata": {},
   "outputs": [
    {
     "name": "stdout",
     "output_type": "stream",
     "text": [
      "(14429798, 10)\n",
      "user_id    2023942\n",
      "item_id      80724\n",
      "dtype: int64\n"
     ]
    }
   ],
   "source": [
    "print(review_1234.shape)\n",
    "print(review_1234[['user_id', 'item_id']].nunique())"
   ]
  },
  {
   "cell_type": "code",
   "execution_count": 171,
   "metadata": {},
   "outputs": [
    {
     "name": "stdout",
     "output_type": "stream",
     "text": [
      "(13514644, 31)\n",
      "user_id    1987364\n",
      "item_id      62034\n",
      "dtype: int64\n",
      "99.98903780796296\n"
     ]
    }
   ],
   "source": [
    "print(review_norm_soldout.shape)\n",
    "print(review_norm_soldout[['user_id', 'item_id']].nunique())\n",
    "print((1 - review_norm_soldout.shape[0] / (review_norm_soldout['user_id'].nunique() * review_norm_soldout['item_id'].nunique()))*100)"
   ]
  },
  {
   "attachments": {},
   "cell_type": "markdown",
   "metadata": {},
   "source": [
    "판매중 or 품절 아이템 병합 결과 sparsity = 99.989% "
   ]
  },
  {
   "cell_type": "code",
   "execution_count": 172,
   "metadata": {},
   "outputs": [
    {
     "name": "stdout",
     "output_type": "stream",
     "text": [
      "(12501506, 31)\n",
      "user_id    1929625\n",
      "item_id      47854\n",
      "dtype: int64\n",
      "99.98646148061195\n"
     ]
    }
   ],
   "source": [
    "print(review_norm.shape)\n",
    "print(review_norm[['user_id', 'item_id']].nunique())\n",
    "print((1 - review_norm.shape[0] / (review_norm['user_id'].nunique() * review_norm['item_id'].nunique()))*100)"
   ]
  },
  {
   "attachments": {},
   "cell_type": "markdown",
   "metadata": {},
   "source": [
    "판매중인 아이템만 병합 결과 sparsity = 99.986% "
   ]
  },
  {
   "attachments": {},
   "cell_type": "markdown",
   "metadata": {},
   "source": [
    "## user_id, item_id 중복 데이터 제거"
   ]
  },
  {
   "cell_type": "code",
   "execution_count": 173,
   "metadata": {},
   "outputs": [],
   "source": [
    "review_norm_soldout.sort_values('time', inplace=True)"
   ]
  },
  {
   "cell_type": "code",
   "execution_count": 174,
   "metadata": {},
   "outputs": [],
   "source": [
    "review_norm_dups = review_norm_soldout[review_norm_soldout.duplicated(subset=['item_id', 'user_id'], keep=False)].sort_values('user_id')"
   ]
  },
  {
   "cell_type": "code",
   "execution_count": 175,
   "metadata": {},
   "outputs": [
    {
     "data": {
      "text/html": [
       "<div>\n",
       "<style scoped>\n",
       "    .dataframe tbody tr th:only-of-type {\n",
       "        vertical-align: middle;\n",
       "    }\n",
       "\n",
       "    .dataframe tbody tr th {\n",
       "        vertical-align: top;\n",
       "    }\n",
       "\n",
       "    .dataframe thead th {\n",
       "        text-align: right;\n",
       "    }\n",
       "</style>\n",
       "<table border=\"1\" class=\"dataframe\">\n",
       "  <thead>\n",
       "    <tr style=\"text-align: right;\">\n",
       "      <th></th>\n",
       "      <th>item_id</th>\n",
       "      <th>user_id</th>\n",
       "      <th>time</th>\n",
       "      <th>star_avg</th>\n",
       "      <th>star_durability</th>\n",
       "      <th>star_design</th>\n",
       "      <th>star_cost</th>\n",
       "      <th>star_delivery</th>\n",
       "      <th>review</th>\n",
       "      <th>option</th>\n",
       "      <th>...</th>\n",
       "      <th>is_selling</th>\n",
       "      <th>is_buyable</th>\n",
       "      <th>category0</th>\n",
       "      <th>category1</th>\n",
       "      <th>delivery_fee</th>\n",
       "      <th>delivery_fee_free_threshold</th>\n",
       "      <th>img_main</th>\n",
       "      <th>img_sub_list</th>\n",
       "      <th>option_names</th>\n",
       "      <th>max_option_price</th>\n",
       "    </tr>\n",
       "  </thead>\n",
       "  <tbody>\n",
       "    <tr>\n",
       "      <th>13504589</th>\n",
       "      <td>25152</td>\n",
       "      <td>11</td>\n",
       "      <td>2017.10.08</td>\n",
       "      <td>5.0000</td>\n",
       "      <td>5.0000</td>\n",
       "      <td>5.0000</td>\n",
       "      <td>5.0000</td>\n",
       "      <td>5.0000</td>\n",
       "      <td>커튼 사면서 같이구매했는데요. 갯수를잘못시켜서 모자라네요.추가주문했어요.ㅋㅋ 깔끔하...</td>\n",
       "      <td>NaN</td>\n",
       "      <td>...</td>\n",
       "      <td>True</td>\n",
       "      <td>True</td>\n",
       "      <td>패브릭</td>\n",
       "      <td>커튼·부자재</td>\n",
       "      <td>3500</td>\n",
       "      <td>70000</td>\n",
       "      <td>https://image.ohou.se/image/central_crop/bucke...</td>\n",
       "      <td>['https://image.ohou.se/image/central_crop/buc...</td>\n",
       "      <td>['선택:15mm화이트(10p)', '선택:25mm화이트(10p)', '선택:25m...</td>\n",
       "      <td>1900</td>\n",
       "    </tr>\n",
       "    <tr>\n",
       "      <th>13504588</th>\n",
       "      <td>25152</td>\n",
       "      <td>11</td>\n",
       "      <td>2017.10.08</td>\n",
       "      <td>5.0000</td>\n",
       "      <td>5.0000</td>\n",
       "      <td>5.0000</td>\n",
       "      <td>5.0000</td>\n",
       "      <td>5.0000</td>\n",
       "      <td>화이트커튼하고같이구매했어요. 갯수를 모자라게주문하는바람에 추가구매했다는ㅋㅋ 깔끔하고...</td>\n",
       "      <td>25mm화이트(10p)</td>\n",
       "      <td>...</td>\n",
       "      <td>True</td>\n",
       "      <td>True</td>\n",
       "      <td>패브릭</td>\n",
       "      <td>커튼·부자재</td>\n",
       "      <td>3500</td>\n",
       "      <td>70000</td>\n",
       "      <td>https://image.ohou.se/image/central_crop/bucke...</td>\n",
       "      <td>['https://image.ohou.se/image/central_crop/buc...</td>\n",
       "      <td>['선택:15mm화이트(10p)', '선택:25mm화이트(10p)', '선택:25m...</td>\n",
       "      <td>1900</td>\n",
       "    </tr>\n",
       "  </tbody>\n",
       "</table>\n",
       "<p>2 rows × 31 columns</p>\n",
       "</div>"
      ],
      "text/plain": [
       "          item_id  user_id        time  star_avg  star_durability  \\\n",
       "13504589    25152       11  2017.10.08    5.0000           5.0000   \n",
       "13504588    25152       11  2017.10.08    5.0000           5.0000   \n",
       "\n",
       "          star_design  star_cost  star_delivery  \\\n",
       "13504589       5.0000     5.0000         5.0000   \n",
       "13504588       5.0000     5.0000         5.0000   \n",
       "\n",
       "                                                     review        option  \\\n",
       "13504589  커튼 사면서 같이구매했는데요. 갯수를잘못시켜서 모자라네요.추가주문했어요.ㅋㅋ 깔끔하...           NaN   \n",
       "13504588  화이트커튼하고같이구매했어요. 갯수를 모자라게주문하는바람에 추가구매했다는ㅋㅋ 깔끔하고...  25mm화이트(10p)   \n",
       "\n",
       "          ... is_selling is_buyable  category0  category1  delivery_fee  \\\n",
       "13504589  ...       True       True        패브릭     커튼·부자재          3500   \n",
       "13504588  ...       True       True        패브릭     커튼·부자재          3500   \n",
       "\n",
       "          delivery_fee_free_threshold  \\\n",
       "13504589                        70000   \n",
       "13504588                        70000   \n",
       "\n",
       "                                                   img_main  \\\n",
       "13504589  https://image.ohou.se/image/central_crop/bucke...   \n",
       "13504588  https://image.ohou.se/image/central_crop/bucke...   \n",
       "\n",
       "                                               img_sub_list  \\\n",
       "13504589  ['https://image.ohou.se/image/central_crop/buc...   \n",
       "13504588  ['https://image.ohou.se/image/central_crop/buc...   \n",
       "\n",
       "                                               option_names  max_option_price  \n",
       "13504589  ['선택:15mm화이트(10p)', '선택:25mm화이트(10p)', '선택:25m...              1900  \n",
       "13504588  ['선택:15mm화이트(10p)', '선택:25mm화이트(10p)', '선택:25m...              1900  \n",
       "\n",
       "[2 rows x 31 columns]"
      ]
     },
     "execution_count": 175,
     "metadata": {},
     "output_type": "execute_result"
    }
   ],
   "source": [
    "review_norm_dups[(review_norm_dups['item_id']==25152) & (review_norm_dups['user_id']==11)]"
   ]
  },
  {
   "cell_type": "code",
   "execution_count": 176,
   "metadata": {},
   "outputs": [
    {
     "data": {
      "text/plain": [
       "393234"
      ]
     },
     "execution_count": 176,
     "metadata": {},
     "output_type": "execute_result"
    }
   ],
   "source": [
    "review_norm_dups.drop_duplicates(subset=['item_id', 'user_id'], keep='last').shape[0]"
   ]
  },
  {
   "cell_type": "code",
   "execution_count": 177,
   "metadata": {},
   "outputs": [
    {
     "data": {
      "text/plain": [
       "855892"
      ]
     },
     "execution_count": 177,
     "metadata": {},
     "output_type": "execute_result"
    }
   ],
   "source": [
    "review_norm_dups.shape[0]"
   ]
  },
  {
   "attachments": {},
   "cell_type": "markdown",
   "metadata": {},
   "source": [
    "약 81만건의 리뷰가 중복으로 남겨짐\n",
    "\n",
    "한번에 여러 개를 구매한 경우도 있고, 구매 후 어느 정도 텀을 두고 재구매한 경우도 있음\n",
    "\n",
    "`is_rebuying` 이라는 이름으로 중복 리뷰인 경우 1, 아닌 경우 0으로 컬럼 생성하고 중복 제거\n",
    "\n",
    "중복 제거 기준은 가장 최근 리뷰를 남겨놓는 것으로 결정"
   ]
  },
  {
   "cell_type": "code",
   "execution_count": 178,
   "metadata": {},
   "outputs": [
    {
     "data": {
      "text/plain": [
       "4534792     0\n",
       "4534791     1\n",
       "13504589    0\n",
       "13504588    1\n",
       "11283429    0\n",
       "           ..\n",
       "3876276     1\n",
       "12901648    0\n",
       "12901669    1\n",
       "8005602     0\n",
       "8005603     1\n",
       "Length: 855892, dtype: int64"
      ]
     },
     "execution_count": 178,
     "metadata": {},
     "output_type": "execute_result"
    }
   ],
   "source": [
    "review_norm_dups.groupby(['user_id', 'item_id'])['time'].cumcount()"
   ]
  },
  {
   "cell_type": "code",
   "execution_count": 179,
   "metadata": {},
   "outputs": [],
   "source": [
    "review_norm_soldout['is_rebuying'] = review_norm_soldout.groupby(['user_id', 'item_id'])['time'].cumcount().apply(lambda x: True if x>0 else False)"
   ]
  },
  {
   "cell_type": "code",
   "execution_count": 180,
   "metadata": {},
   "outputs": [],
   "source": [
    "review_norm_soldout.drop_duplicates(subset=['item_id','user_id'], keep='last', inplace=True)"
   ]
  },
  {
   "cell_type": "code",
   "execution_count": 181,
   "metadata": {},
   "outputs": [
    {
     "name": "stdout",
     "output_type": "stream",
     "text": [
      "(13051986, 32)\n",
      "user_id    1987364\n",
      "item_id      62034\n",
      "dtype: int64\n",
      "99.98941308576113\n"
     ]
    }
   ],
   "source": [
    "print(review_norm_soldout.shape)\n",
    "print(review_norm_soldout[['user_id', 'item_id']].nunique())\n",
    "print((1 - review_norm_soldout.shape[0] / (review_norm_soldout['user_id'].nunique() * review_norm_soldout['item_id'].nunique()))*100)"
   ]
  },
  {
   "attachments": {},
   "cell_type": "markdown",
   "metadata": {},
   "source": [
    "## 카테고리 제거"
   ]
  },
  {
   "cell_type": "code",
   "execution_count": 182,
   "metadata": {},
   "outputs": [
    {
     "data": {
      "text/plain": [
       "category0\n",
       "데코·식물     12961\n",
       "주방용품      12009\n",
       "가구        11067\n",
       "패브릭        6072\n",
       "가전·디지털     5630\n",
       "수납·정리      3499\n",
       "조명         2872\n",
       "생활용품       2345\n",
       "공구·DIY     1421\n",
       "유아·아동      1207\n",
       "캠핑·레저      1067\n",
       "생필품         798\n",
       "반려동물        695\n",
       "인테리어시공      184\n",
       "식품          107\n",
       "렌탈          100\n",
       "Name: item_id, dtype: int64"
      ]
     },
     "execution_count": 182,
     "metadata": {},
     "output_type": "execute_result"
    }
   ],
   "source": [
    "review_norm_soldout.groupby(['category0'])['item_id'].nunique().sort_values(ascending=False)"
   ]
  },
  {
   "cell_type": "code",
   "execution_count": 183,
   "metadata": {},
   "outputs": [
    {
     "data": {
      "text/plain": [
       "array(['수납·정리', '조명', '데코·식물', '패브릭', '가구', '생활용품', '주방용품', '가전·디지털',\n",
       "       '생필품', '캠핑·레저', '공구·DIY', '반려동물', '유아·아동', '렌탈', '인테리어시공', '식품'],\n",
       "      dtype=object)"
      ]
     },
     "execution_count": 183,
     "metadata": {},
     "output_type": "execute_result"
    }
   ],
   "source": [
    "review_norm_soldout['category0'].unique()"
   ]
  },
  {
   "attachments": {},
   "cell_type": "markdown",
   "metadata": {},
   "source": [
    "'주방용품', '생활용품', '공구·DIY', '조명', '패브릭', '가구', '데코·식물', '수납·정리' 카테고리만 사용"
   ]
  },
  {
   "cell_type": "code",
   "execution_count": 184,
   "metadata": {},
   "outputs": [],
   "source": [
    "review_norm_selected = review_norm_soldout[review_norm_soldout['category0'].isin(['주방용품', '생활용품', '공구·DIY', '조명', '패브릭', '가구', '데코·식물', '수납·정리'])]"
   ]
  },
  {
   "cell_type": "code",
   "execution_count": 185,
   "metadata": {},
   "outputs": [
    {
     "name": "stdout",
     "output_type": "stream",
     "text": [
      "(11869896, 32)\n",
      "user_id    1843986\n",
      "item_id      52246\n",
      "dtype: int64\n",
      "99.98767927545087\n"
     ]
    }
   ],
   "source": [
    "print(review_norm_selected.shape)\n",
    "print(review_norm_selected[['user_id', 'item_id']].nunique())\n",
    "print((1 - review_norm_selected.shape[0] / (review_norm_selected['user_id'].nunique() * review_norm_selected['item_id'].nunique()))*100)"
   ]
  },
  {
   "attachments": {},
   "cell_type": "markdown",
   "metadata": {},
   "source": [
    "## 오래된 리뷰 제거?\n",
    "- 제거할 필요성을 잘 모르겠음.."
   ]
  },
  {
   "cell_type": "code",
   "execution_count": 186,
   "metadata": {},
   "outputs": [
    {
     "data": {
      "text/plain": [
       "2016.06         1\n",
       "2016.07         3\n",
       "2016.08        27\n",
       "2016.09        16\n",
       "2016.10        38\n",
       "            ...  \n",
       "2022.09    290699\n",
       "2022.10    289706\n",
       "2022.11    304558\n",
       "2022.12    310291\n",
       "2023.01     51892\n",
       "Name: time, Length: 80, dtype: int64"
      ]
     },
     "execution_count": 186,
     "metadata": {},
     "output_type": "execute_result"
    }
   ],
   "source": [
    "review_norm_selected['time'].apply(lambda x: x[:7]).value_counts().sort_index()"
   ]
  },
  {
   "cell_type": "code",
   "execution_count": 187,
   "metadata": {},
   "outputs": [
    {
     "data": {
      "text/plain": [
       "<matplotlib.lines.Line2D at 0x7fa9c1698f70>"
      ]
     },
     "execution_count": 187,
     "metadata": {},
     "output_type": "execute_result"
    },
    {
     "data": {
      "image/png": "[encoded data removed]",
      "text/plain": [
       "<Figure size 640x480 with 1 Axes>"
      ]
     },
     "metadata": {},
     "output_type": "display_data"
    }
   ],
   "source": [
    "review_norm_selected['time'].apply(lambda x: x[:7]).value_counts().sort_index().plot()\n",
    "plt.axhline(y=150000, color='red')\n",
    "plt.axhline(y=250000, color='red')"
   ]
  },
  {
   "cell_type": "code",
   "execution_count": 188,
   "metadata": {},
   "outputs": [
    {
     "data": {
      "text/plain": [
       "2020.02    189677\n",
       "2020.03    276828\n",
       "2020.04    249566\n",
       "2020.05    234923\n",
       "2020.06    222971\n",
       "2020.07    204889\n",
       "2020.08    235857\n",
       "2020.09    340199\n",
       "2020.10    303320\n",
       "2020.11    286410\n",
       "2020.12    386839\n",
       "2021.01    390953\n",
       "2021.02    296010\n",
       "2021.03    362599\n",
       "2021.04    304712\n",
       "2021.05    296317\n",
       "2021.06    281374\n",
       "2021.07    307572\n",
       "2021.08    315807\n",
       "2021.09    303023\n",
       "2021.10    289394\n",
       "2021.11    294702\n",
       "2021.12    409715\n",
       "2022.01    363781\n",
       "2022.02    369182\n",
       "2022.03    390880\n",
       "2022.04    302707\n",
       "2022.05    268739\n",
       "2022.06    287971\n",
       "2022.07    286986\n",
       "2022.08    314210\n",
       "2022.09    290699\n",
       "2022.10    289706\n",
       "2022.11    304558\n",
       "2022.12    310291\n",
       "Name: time, dtype: int64"
      ]
     },
     "execution_count": 188,
     "metadata": {},
     "output_type": "execute_result"
    }
   ],
   "source": [
    "review_norm_selected['time'].apply(lambda x: x[:7]).value_counts().sort_index()[review_norm_selected['time'].apply(lambda x: x[:7]).value_counts().sort_index()>150000]"
   ]
  },
  {
   "cell_type": "code",
   "execution_count": 189,
   "metadata": {},
   "outputs": [],
   "source": [
    "# review_norm_selected = review_norm_selected[review_norm_selected['time']>=2020.09]"
   ]
  },
  {
   "attachments": {},
   "cell_type": "markdown",
   "metadata": {},
   "source": [
    "## 리뷰를 적게 남긴 유저 제거?"
   ]
  },
  {
   "cell_type": "code",
   "execution_count": 190,
   "metadata": {},
   "outputs": [
    {
     "data": {
      "text/plain": [
       "user_id\n",
       "7061122       1\n",
       "7882777       1\n",
       "7882790       1\n",
       "7882810       1\n",
       "7882824       1\n",
       "           ... \n",
       "2996825     323\n",
       "1468106     337\n",
       "3971313     367\n",
       "5007844     491\n",
       "2692433    3087\n",
       "Name: item_id, Length: 1843986, dtype: int64"
      ]
     },
     "execution_count": 190,
     "metadata": {},
     "output_type": "execute_result"
    }
   ],
   "source": [
    "review_norm_selected.groupby('user_id')['item_id'].count().sort_values()"
   ]
  },
  {
   "cell_type": "code",
   "execution_count": 191,
   "metadata": {},
   "outputs": [],
   "source": [
    "review_norm_selected = review_norm_selected[review_norm_selected['user_id']!=2692433]"
   ]
  },
  {
   "attachments": {},
   "cell_type": "markdown",
   "metadata": {},
   "source": [
    "16031개의 리뷰를 남긴 유저 존재 (user_id = 2692433) -> 이상치로 판단하여 제거"
   ]
  },
  {
   "cell_type": "code",
   "execution_count": 192,
   "metadata": {},
   "outputs": [
    {
     "name": "stdout",
     "output_type": "stream",
     "text": [
      "1      614515\n",
      "2      266010\n",
      "3      168352\n",
      "4      120914\n",
      "5       92930\n",
      "        ...  \n",
      "321         2\n",
      "323         1\n",
      "337         1\n",
      "367         1\n",
      "491         1\n",
      "Name: item_id, Length: 236, dtype: int64\n",
      "1    0.3333\n",
      "2    0.1443\n",
      "3    0.0913\n",
      "4    0.0656\n",
      "5    0.0504\n",
      "6    0.0399\n",
      "7    0.0327\n",
      "8    0.0273\n",
      "9    0.0231\n",
      "10   0.0198\n",
      "11   0.0170\n",
      "12   0.0148\n",
      "13   0.0130\n",
      "14   0.0115\n",
      "15   0.0102\n",
      "16   0.0090\n",
      "17   0.0081\n",
      "18   0.0073\n",
      "19   0.0065\n",
      "20   0.0059\n",
      "21   0.0054\n",
      "22   0.0049\n",
      "23   0.0044\n",
      "24   0.0040\n",
      "25   0.0037\n",
      "26   0.0034\n",
      "27   0.0031\n",
      "28   0.0029\n",
      "29   0.0025\n",
      "30   0.0024\n",
      "Name: item_id, dtype: float64\n"
     ]
    }
   ],
   "source": [
    "print(review_norm_selected.groupby('user_id')['item_id'].count().value_counts().sort_index())\n",
    "print((review_norm_selected.groupby('user_id')['item_id'].count().value_counts().sort_index() / review_norm_selected['user_id'].nunique())[:30])"
   ]
  },
  {
   "attachments": {},
   "cell_type": "markdown",
   "metadata": {},
   "source": [
    "전체 유저 수 대비 review를 1번 남긴 유저 : 33.3%\n",
    "\n",
    "전체 유저 수 대비 review를 2번 남긴 유저 : 14.6%\n",
    "\n",
    "-> 몇 개까지 적은 리뷰를 남긴 유저 제거할까?\n",
    "    - 서비스 운영시 유저가 선택할 최소 상품 수를 5개로 한다면, 5개보다 적은 리뷰를 남긴 유저에 대해서는 제거하는게 좋을수도..?"
   ]
  },
  {
   "cell_type": "code",
   "execution_count": 193,
   "metadata": {},
   "outputs": [],
   "source": [
    "review_drop_5 = review_norm_selected[review_norm_selected['user_id'].isin(review_norm_selected.groupby('user_id')['item_id'].count()[review_norm_selected.groupby('user_id')['item_id'].count() >= 5].index)]"
   ]
  },
  {
   "cell_type": "code",
   "execution_count": 194,
   "metadata": {},
   "outputs": [
    {
     "name": "stdout",
     "output_type": "stream",
     "text": [
      "(9731562, 32)\n",
      "user_id    674194\n",
      "item_id     51038\n",
      "dtype: int64\n",
      "99.9717183969015\n"
     ]
    }
   ],
   "source": [
    "print(review_drop_5.shape)\n",
    "print(review_drop_5[['user_id', 'item_id']].nunique())\n",
    "print((1 - review_drop_5.shape[0] / (review_drop_5['user_id'].nunique() * review_drop_5['item_id'].nunique()))*100)"
   ]
  },
  {
   "attachments": {},
   "cell_type": "markdown",
   "metadata": {},
   "source": [
    "review를 5개보다 적게 남긴 유저 제거했을 때 sparsity = 99.966%"
   ]
  },
  {
   "attachments": {},
   "cell_type": "markdown",
   "metadata": {},
   "source": [
    "## 리뷰가 적은 상품 제거?"
   ]
  },
  {
   "cell_type": "code",
   "execution_count": 195,
   "metadata": {},
   "outputs": [
    {
     "data": {
      "text/plain": [
       "item_id\n",
       "1767908        1\n",
       "108019         1\n",
       "108005         1\n",
       "107992         1\n",
       "226534         1\n",
       "           ...  \n",
       "314121     31600\n",
       "379255     33392\n",
       "344496     33838\n",
       "107013     34669\n",
       "345755     34792\n",
       "Name: user_id, Length: 51038, dtype: int64"
      ]
     },
     "execution_count": 195,
     "metadata": {},
     "output_type": "execute_result"
    }
   ],
   "source": [
    "review_drop_5.groupby('item_id')['user_id'].count().sort_values()"
   ]
  },
  {
   "cell_type": "code",
   "execution_count": 196,
   "metadata": {},
   "outputs": [
    {
     "data": {
      "text/plain": [
       "1        5744\n",
       "2        3655\n",
       "3        2519\n",
       "4        1989\n",
       "5        1654\n",
       "         ... \n",
       "31600       1\n",
       "33392       1\n",
       "33838       1\n",
       "34669       1\n",
       "34792       1\n",
       "Name: user_id, Length: 2430, dtype: int64"
      ]
     },
     "execution_count": 196,
     "metadata": {},
     "output_type": "execute_result"
    }
   ],
   "source": [
    "review_drop_5.groupby('item_id')['user_id'].count().value_counts().sort_index()"
   ]
  },
  {
   "cell_type": "code",
   "execution_count": 197,
   "metadata": {},
   "outputs": [
    {
     "name": "stdout",
     "output_type": "stream",
     "text": [
      "1        5744\n",
      "2        3655\n",
      "3        2519\n",
      "4        1989\n",
      "5        1654\n",
      "         ... \n",
      "31600       1\n",
      "33392       1\n",
      "33838       1\n",
      "34669       1\n",
      "34792       1\n",
      "Name: user_id, Length: 2430, dtype: int64\n",
      "1       0.1125\n",
      "2       0.0716\n",
      "3       0.0494\n",
      "4       0.0390\n",
      "5       0.0324\n",
      "         ...  \n",
      "31600   0.0000\n",
      "33392   0.0000\n",
      "33838   0.0000\n",
      "34669   0.0000\n",
      "34792   0.0000\n",
      "Name: user_id, Length: 2430, dtype: float64\n",
      "1    0.1125\n",
      "2    0.1842\n",
      "3    0.2335\n",
      "4    0.2725\n",
      "5    0.3049\n",
      "6    0.3342\n",
      "7    0.3569\n",
      "8    0.3779\n",
      "9    0.3960\n",
      "10   0.4131\n",
      "11   0.4283\n",
      "12   0.4426\n",
      "13   0.4552\n",
      "14   0.4667\n",
      "15   0.4782\n",
      "16   0.4885\n",
      "17   0.4975\n",
      "18   0.5058\n",
      "19   0.5147\n",
      "20   0.5224\n",
      "21   0.5305\n",
      "22   0.5373\n",
      "23   0.5440\n",
      "24   0.5505\n",
      "25   0.5578\n",
      "26   0.5639\n",
      "27   0.5700\n",
      "28   0.5758\n",
      "29   0.5807\n",
      "30   0.5859\n",
      "Name: user_id, dtype: float64\n"
     ]
    }
   ],
   "source": [
    "print(review_drop_5.groupby('item_id')['user_id'].count().value_counts().sort_index())\n",
    "print(review_drop_5.groupby('item_id')['user_id'].count().value_counts().sort_index() / review_drop_5['item_id'].nunique())\n",
    "print((review_drop_5.groupby('item_id')['user_id'].count().value_counts().sort_index() / review_drop_5['item_id'].nunique()).cumsum()[:30])"
   ]
  },
  {
   "attachments": {},
   "cell_type": "markdown",
   "metadata": {},
   "source": [
    "일단 리뷰가 30개 미만인 상품 제거해보자"
   ]
  },
  {
   "cell_type": "code",
   "execution_count": 198,
   "metadata": {},
   "outputs": [],
   "source": [
    "review_drop_5_30 = review_drop_5[review_drop_5['item_id'].isin(review_drop_5.groupby('item_id')['user_id'].count()[review_drop_5.groupby('item_id')['user_id'].count() >= 30].index)]"
   ]
  },
  {
   "cell_type": "code",
   "execution_count": 199,
   "metadata": {},
   "outputs": [
    {
     "name": "stdout",
     "output_type": "stream",
     "text": [
      "(9495550, 32)\n",
      "user_id    674185\n",
      "item_id     21402\n",
      "dtype: int64\n",
      "99.93419078966615\n"
     ]
    }
   ],
   "source": [
    "print(review_drop_5_30.shape)\n",
    "print(review_drop_5_30[['user_id', 'item_id']].nunique())\n",
    "print((1 - review_drop_5_30.shape[0] / (review_drop_5_30['user_id'].nunique() * review_drop_5_30['item_id'].nunique()))*100)"
   ]
  },
  {
   "cell_type": "code",
   "execution_count": 200,
   "metadata": {},
   "outputs": [
    {
     "data": {
      "text/plain": [
       "category0\n",
       "가구        4535\n",
       "공구·DIY     392\n",
       "데코·식물     4367\n",
       "생활용품      1305\n",
       "수납·정리     1884\n",
       "조명         924\n",
       "주방용품      5012\n",
       "패브릭       2983\n",
       "Name: item_id, dtype: int64"
      ]
     },
     "execution_count": 200,
     "metadata": {},
     "output_type": "execute_result"
    }
   ],
   "source": [
    "review_drop_5_30.groupby('category0')['item_id'].nunique()"
   ]
  },
  {
   "attachments": {},
   "cell_type": "markdown",
   "metadata": {},
   "source": [
    "## 저장"
   ]
  },
  {
   "cell_type": "code",
   "execution_count": 201,
   "metadata": {},
   "outputs": [
    {
     "data": {
      "text/plain": [
       "Index(['item_id', 'user_id', 'time', 'star_avg', 'star_durability',\n",
       "       'star_design', 'star_cost', 'star_delivery', 'review', 'option',\n",
       "       'title', 'brand', 'original_price', 'selling_price', 'wish_count',\n",
       "       'share_count', 'scrap_count', 'qa_count', 'review_count', 'review_avg',\n",
       "       'is_sold_out', 'is_selling', 'is_buyable', 'category0', 'category1',\n",
       "       'delivery_fee', 'delivery_fee_free_threshold', 'img_main',\n",
       "       'img_sub_list', 'option_names', 'max_option_price', 'is_rebuying'],\n",
       "      dtype='object')"
      ]
     },
     "execution_count": 201,
     "metadata": {},
     "output_type": "execute_result"
    }
   ],
   "source": [
    "review_drop_5_30.columns"
   ]
  },
  {
   "cell_type": "code",
   "execution_count": 202,
   "metadata": {},
   "outputs": [],
   "source": [
    "inter = review_drop_5_30[['item_id', 'user_id', 'time', 'star_avg', 'star_durability',\n",
    "       'star_design', 'star_cost', 'star_delivery', 'review', 'option']]"
   ]
  },
  {
   "cell_type": "code",
   "execution_count": 203,
   "metadata": {},
   "outputs": [],
   "source": [
    "item = review_drop_5_30[['item_id', 'title', 'brand', 'original_price', 'selling_price', 'wish_count',\n",
    "       'share_count', 'scrap_count', 'qa_count', 'review_count', 'review_avg',\n",
    "       'category0', 'category1',\n",
    "       'delivery_fee', 'delivery_fee_free_threshold', 'max_option_price', 'is_rebuying']]"
   ]
  },
  {
   "cell_type": "code",
   "execution_count": 204,
   "metadata": {},
   "outputs": [],
   "source": [
    "inter.columns = ['item_id:token', 'user_id:token', 'timestamp:float', 'star_avg:float',\n",
    "       'star_durability:float', 'star_design:float', 'star_cost:float',\n",
    "       'star_delivery:float', 'review:token_seq', 'option:token_seq']"
   ]
  },
  {
   "cell_type": "code",
   "execution_count": 205,
   "metadata": {},
   "outputs": [],
   "source": [
    "item.columns = ['item_id:token', 'title:token_seq', 'brand:token',\n",
    "       'original_price:float', 'selling_price:float', 'wish_count:float',\n",
    "       'share_count:float', 'scrap_count:float', 'qa_count:float',\n",
    "       'review_count:float', 'review_avg:float', 'category0:token', 'category1:token', 'delivery_fee:float',\n",
    "       'delivery_fee_free_threshold:float', 'max_option_price:float', 'is_rebuying:float']"
   ]
  },
  {
   "cell_type": "code",
   "execution_count": 206,
   "metadata": {},
   "outputs": [],
   "source": [
    "import time\n",
    "from datetime import datetime\n",
    "inter['timestamp:float'] = inter['timestamp:float'].apply(lambda x: time.mktime(datetime.strptime(x, '%Y.%m.%d').timetuple()))"
   ]
  },
  {
   "cell_type": "code",
   "execution_count": 207,
   "metadata": {},
   "outputs": [],
   "source": [
    "!mkdir -p {save_base_path}"
   ]
  },
  {
   "cell_type": "code",
   "execution_count": 208,
   "metadata": {},
   "outputs": [],
   "source": [
    "inter.to_csv(os.path.join(save_base_path, f\"{dataset_name}.inter\"), index=False)\n",
    "item.to_csv(os.path.join(save_base_path, f\"{dataset_name}.item\"), index=False)"
   ]
  },
  {
   "attachments": {},
   "cell_type": "markdown",
   "metadata": {},
   "source": [
    "## Temporal Global Split 을 위한 timestamp 알아보기"
   ]
  },
  {
   "cell_type": "code",
   "execution_count": 209,
   "metadata": {},
   "outputs": [
    {
     "data": {
      "text/plain": [
       "568117      2016.08.21\n",
       "13303108    2016.08.26\n",
       "11932913    2016.08.30\n",
       "13437594    2016.08.30\n",
       "1378098     2016.08.31\n",
       "               ...    \n",
       "11766201    2023.01.09\n",
       "12363933    2023.01.09\n",
       "11537164    2023.01.09\n",
       "12799231    2023.01.09\n",
       "11600187    2023.01.09\n",
       "Name: time, Length: 9495550, dtype: object"
      ]
     },
     "execution_count": 209,
     "metadata": {},
     "output_type": "execute_result"
    }
   ],
   "source": [
    "review_drop_5_30['time']"
   ]
  },
  {
   "cell_type": "code",
   "execution_count": 210,
   "metadata": {},
   "outputs": [],
   "source": [
    "inter_time_cumratio = review_drop_5_30.groupby(['time'])['item_id'].count().sort_index().cumsum() / review_drop_5_30.shape[0]"
   ]
  },
  {
   "cell_type": "code",
   "execution_count": 211,
   "metadata": {},
   "outputs": [
    {
     "data": {
      "text/plain": [
       "time\n",
       "2022.04.29   0.7993\n",
       "2022.04.30   0.8000\n",
       "2022.05.01   0.8009\n",
       "Name: item_id, dtype: float64"
      ]
     },
     "execution_count": 211,
     "metadata": {},
     "output_type": "execute_result"
    }
   ],
   "source": [
    "inter_time_cumratio[(inter_time_cumratio>0.799) & (inter_time_cumratio<0.801)]\n",
    "# 2022.05.01"
   ]
  },
  {
   "cell_type": "code",
   "execution_count": 212,
   "metadata": {},
   "outputs": [
    {
     "data": {
      "text/plain": [
       "time\n",
       "2022.09.03   0.8997\n",
       "2022.09.04   0.9007\n",
       "Name: item_id, dtype: float64"
      ]
     },
     "execution_count": 212,
     "metadata": {},
     "output_type": "execute_result"
    }
   ],
   "source": [
    "inter_time_cumratio[(inter_time_cumratio>0.899) & (inter_time_cumratio<0.901)]\n",
    "# 2022.09.04"
   ]
  }
 ],
 "metadata": {
  "kernelspec": {
   "display_name": "word_cloud",
   "language": "python",
   "name": "python3"
  },
  "language_info": {
   "codemirror_mode": {
    "name": "ipython",
    "version": 3
   },
   "file_extension": ".py",
   "mimetype": "text/x-python",
   "name": "python",
   "nbconvert_exporter": "python",
   "pygments_lexer": "ipython3",
   "version": "3.8.16"
  },
  "orig_nbformat": 4,
  "vscode": {
   "interpreter": {
    "hash": "6549891e96d1fb1a92ffdcd2624fbf9e579e33b641b130a5903b6f7c59f3a6cf"
   }
  }
 },
 "nbformat": 4,
 "nbformat_minor": 2
}
